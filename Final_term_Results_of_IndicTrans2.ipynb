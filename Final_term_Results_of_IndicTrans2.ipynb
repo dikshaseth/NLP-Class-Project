{
  "cells": [
    {
      "cell_type": "markdown",
      "metadata": {
        "id": "8Aa-nRCzPVdF"
      },
      "source": [
        "# IndicTrans2 HF Inference\n",
        "\n",
        "We provide an example notebook on how to use our IndicTrans2 models which were originally trained with the fairseq to HuggingFace transformers for inference purpose.\n"
      ]
    },
    {
      "cell_type": "markdown",
      "metadata": {
        "id": "Cfsv02IeP2It"
      },
      "source": [
        "## Setup\n",
        "\n",
        "Please run the cells below to install the necessary dependencies.\n"
      ]
    },
    {
      "cell_type": "code",
      "execution_count": 1,
      "metadata": {
        "id": "qKcYlUZYGLrt"
      },
      "outputs": [],
      "source": [
        "%%capture\n",
        "!git clone https://github.com/AI4Bharat/IndicTrans2.git"
      ]
    },
    {
      "cell_type": "code",
      "execution_count": 2,
      "metadata": {
        "id": "U3vs7FkIGSxK"
      },
      "outputs": [],
      "source": [
        "%%capture\n",
        "%cd /content/IndicTrans2/huggingface_interface"
      ]
    },
    {
      "cell_type": "code",
      "execution_count": 3,
      "metadata": {
        "id": "ddkRAXQ2Git0"
      },
      "outputs": [],
      "source": [
        "%%capture\n",
        "!python3 -m pip install nltk sacremoses pandas regex mock transformers>=4.33.2 mosestokenizer\n",
        "!python3 -c \"import nltk; nltk.download('punkt')\"\n",
        "!python3 -m pip install bitsandbytes scipy accelerate datasets\n",
        "!python3 -m pip install sentencepiece\n",
        "\n",
        "!git clone https://github.com/VarunGumma/IndicTransTokenizer\n",
        "%cd IndicTransTokenizer\n",
        "!python3 -m pip install --editable ./\n",
        "%cd .."
      ]
    },
    {
      "cell_type": "markdown",
      "metadata": {
        "id": "hjN7ub1tO33H"
      },
      "source": [
        "**IMPORTANT : Restart your run-time first and then run the cells below.**"
      ]
    },
    {
      "cell_type": "markdown",
      "metadata": {
        "id": "_SLBIw6rQB-0"
      },
      "source": [
        "## Inference\n"
      ]
    },
    {
      "cell_type": "code",
      "source": [
        "pip install sacrebleu"
      ],
      "metadata": {
        "colab": {
          "base_uri": "https://localhost:8080/"
        },
        "id": "OGn850rVPVik",
        "outputId": "c28364c0-a41a-4c01-a447-5bb5fecf11f2"
      },
      "execution_count": 1,
      "outputs": [
        {
          "output_type": "stream",
          "name": "stdout",
          "text": [
            "Requirement already satisfied: sacrebleu in /usr/local/lib/python3.10/dist-packages (2.4.2)\n",
            "Requirement already satisfied: portalocker in /usr/local/lib/python3.10/dist-packages (from sacrebleu) (2.8.2)\n",
            "Requirement already satisfied: regex in /usr/local/lib/python3.10/dist-packages (from sacrebleu) (2023.12.25)\n",
            "Requirement already satisfied: tabulate>=0.8.9 in /usr/local/lib/python3.10/dist-packages (from sacrebleu) (0.9.0)\n",
            "Requirement already satisfied: numpy>=1.17 in /usr/local/lib/python3.10/dist-packages (from sacrebleu) (1.25.2)\n",
            "Requirement already satisfied: colorama in /usr/local/lib/python3.10/dist-packages (from sacrebleu) (0.4.6)\n",
            "Requirement already satisfied: lxml in /usr/local/lib/python3.10/dist-packages (from sacrebleu) (4.9.4)\n"
          ]
        }
      ]
    },
    {
      "cell_type": "code",
      "execution_count": 2,
      "metadata": {
        "id": "fYczM2U6G1Zv"
      },
      "outputs": [],
      "source": [
        "import torch\n",
        "from transformers import AutoModelForSeq2SeqLM, BitsAndBytesConfig\n",
        "from IndicTransTokenizer import IndicProcessor, IndicTransTokenizer\n",
        "\n",
        "BATCH_SIZE = 4\n",
        "DEVICE = \"cuda\" if torch.cuda.is_available() else \"cpu\"\n",
        "quantization = None"
      ]
    },
    {
      "cell_type": "code",
      "execution_count": 3,
      "metadata": {
        "id": "xj1WCNjuHG-d"
      },
      "outputs": [],
      "source": [
        "def initialize_model_and_tokenizer(ckpt_dir, direction, quantization):\n",
        "    if quantization == \"4-bit\":\n",
        "        qconfig = BitsAndBytesConfig(\n",
        "            load_in_4bit=True,\n",
        "            bnb_4bit_use_double_quant=True,\n",
        "            bnb_4bit_compute_dtype=torch.bfloat16,\n",
        "        )\n",
        "    elif quantization == \"8-bit\":\n",
        "        qconfig = BitsAndBytesConfig(\n",
        "            load_in_8bit=True,\n",
        "            bnb_8bit_use_double_quant=True,\n",
        "            bnb_8bit_compute_dtype=torch.bfloat16,\n",
        "        )\n",
        "    else:\n",
        "        qconfig = None\n",
        "\n",
        "    tokenizer = IndicTransTokenizer(direction=direction)\n",
        "    model = AutoModelForSeq2SeqLM.from_pretrained(\n",
        "        ckpt_dir,\n",
        "        trust_remote_code=True,\n",
        "        low_cpu_mem_usage=True,\n",
        "        quantization_config=qconfig,\n",
        "    )\n",
        "\n",
        "    if qconfig == None:\n",
        "        model = model.to(DEVICE)\n",
        "        if DEVICE == \"cuda\":\n",
        "            model.half()\n",
        "\n",
        "    model.eval()\n",
        "\n",
        "    return tokenizer, model\n",
        "\n",
        "\n",
        "def batch_translate(input_sentences, src_lang, tgt_lang, model, tokenizer, ip):\n",
        "    translations = []\n",
        "    for i in range(0, len(input_sentences), BATCH_SIZE):\n",
        "        batch = input_sentences[i : i + BATCH_SIZE]\n",
        "\n",
        "        # Preprocess the batch and extract entity mappings\n",
        "        batch = ip.preprocess_batch(batch, src_lang=src_lang, tgt_lang=tgt_lang)\n",
        "\n",
        "        # Tokenize the batch and generate input encodings\n",
        "        inputs = tokenizer(\n",
        "            batch,\n",
        "            src=True,\n",
        "            truncation=True,\n",
        "            padding=\"longest\",\n",
        "            return_tensors=\"pt\",\n",
        "            return_attention_mask=True,\n",
        "        ).to(DEVICE)\n",
        "\n",
        "        # Generate translations using the model\n",
        "        with torch.no_grad():\n",
        "            generated_tokens = model.generate(\n",
        "                **inputs,\n",
        "                use_cache=True,\n",
        "                min_length=0,\n",
        "                max_length=256,\n",
        "                num_beams=5,\n",
        "                num_return_sequences=1,\n",
        "            )\n",
        "\n",
        "        # Decode the generated tokens into text\n",
        "        generated_tokens = tokenizer.batch_decode(generated_tokens.detach().cpu().tolist(), src=False)\n",
        "\n",
        "        # Postprocess the translations, including entity replacement\n",
        "        translations += ip.postprocess_batch(generated_tokens, lang=tgt_lang)\n",
        "\n",
        "        del inputs\n",
        "        torch.cuda.empty_cache()\n",
        "\n",
        "    return translations"
      ]
    },
    {
      "cell_type": "code",
      "source": [],
      "metadata": {
        "id": "bpE6FqHaTsEU"
      },
      "execution_count": 3,
      "outputs": []
    },
    {
      "cell_type": "markdown",
      "source": [
        "## Set data"
      ],
      "metadata": {
        "id": "LbMwZwjyT3_i"
      }
    },
    {
      "cell_type": "code",
      "execution_count": 4,
      "metadata": {
        "colab": {
          "base_uri": "https://localhost:8080/"
        },
        "id": "IS8uDJC4FMv3",
        "outputId": "c3e4f44d-29ad-4423-ab01-4b12743976e2"
      },
      "outputs": [
        {
          "output_type": "stream",
          "name": "stdout",
          "text": [
            "Requirement already satisfied: datasets in /usr/local/lib/python3.10/dist-packages (2.19.0)\n",
            "Requirement already satisfied: filelock in /usr/local/lib/python3.10/dist-packages (from datasets) (3.13.4)\n",
            "Requirement already satisfied: numpy>=1.17 in /usr/local/lib/python3.10/dist-packages (from datasets) (1.25.2)\n",
            "Requirement already satisfied: pyarrow>=12.0.0 in /usr/local/lib/python3.10/dist-packages (from datasets) (14.0.2)\n",
            "Requirement already satisfied: pyarrow-hotfix in /usr/local/lib/python3.10/dist-packages (from datasets) (0.6)\n",
            "Requirement already satisfied: dill<0.3.9,>=0.3.0 in /usr/local/lib/python3.10/dist-packages (from datasets) (0.3.8)\n",
            "Requirement already satisfied: pandas in /usr/local/lib/python3.10/dist-packages (from datasets) (2.0.3)\n",
            "Requirement already satisfied: requests>=2.19.0 in /usr/local/lib/python3.10/dist-packages (from datasets) (2.31.0)\n",
            "Requirement already satisfied: tqdm>=4.62.1 in /usr/local/lib/python3.10/dist-packages (from datasets) (4.66.2)\n",
            "Requirement already satisfied: xxhash in /usr/local/lib/python3.10/dist-packages (from datasets) (3.4.1)\n",
            "Requirement already satisfied: multiprocess in /usr/local/lib/python3.10/dist-packages (from datasets) (0.70.16)\n",
            "Requirement already satisfied: fsspec[http]<=2024.3.1,>=2023.1.0 in /usr/local/lib/python3.10/dist-packages (from datasets) (2023.6.0)\n",
            "Requirement already satisfied: aiohttp in /usr/local/lib/python3.10/dist-packages (from datasets) (3.9.5)\n",
            "Requirement already satisfied: huggingface-hub>=0.21.2 in /usr/local/lib/python3.10/dist-packages (from datasets) (0.22.2)\n",
            "Requirement already satisfied: packaging in /usr/local/lib/python3.10/dist-packages (from datasets) (24.0)\n",
            "Requirement already satisfied: pyyaml>=5.1 in /usr/local/lib/python3.10/dist-packages (from datasets) (6.0.1)\n",
            "Requirement already satisfied: aiosignal>=1.1.2 in /usr/local/lib/python3.10/dist-packages (from aiohttp->datasets) (1.3.1)\n",
            "Requirement already satisfied: attrs>=17.3.0 in /usr/local/lib/python3.10/dist-packages (from aiohttp->datasets) (23.2.0)\n",
            "Requirement already satisfied: frozenlist>=1.1.1 in /usr/local/lib/python3.10/dist-packages (from aiohttp->datasets) (1.4.1)\n",
            "Requirement already satisfied: multidict<7.0,>=4.5 in /usr/local/lib/python3.10/dist-packages (from aiohttp->datasets) (6.0.5)\n",
            "Requirement already satisfied: yarl<2.0,>=1.0 in /usr/local/lib/python3.10/dist-packages (from aiohttp->datasets) (1.9.4)\n",
            "Requirement already satisfied: async-timeout<5.0,>=4.0 in /usr/local/lib/python3.10/dist-packages (from aiohttp->datasets) (4.0.3)\n",
            "Requirement already satisfied: typing-extensions>=3.7.4.3 in /usr/local/lib/python3.10/dist-packages (from huggingface-hub>=0.21.2->datasets) (4.11.0)\n",
            "Requirement already satisfied: charset-normalizer<4,>=2 in /usr/local/lib/python3.10/dist-packages (from requests>=2.19.0->datasets) (3.3.2)\n",
            "Requirement already satisfied: idna<4,>=2.5 in /usr/local/lib/python3.10/dist-packages (from requests>=2.19.0->datasets) (3.7)\n",
            "Requirement already satisfied: urllib3<3,>=1.21.1 in /usr/local/lib/python3.10/dist-packages (from requests>=2.19.0->datasets) (2.0.7)\n",
            "Requirement already satisfied: certifi>=2017.4.17 in /usr/local/lib/python3.10/dist-packages (from requests>=2.19.0->datasets) (2024.2.2)\n",
            "Requirement already satisfied: python-dateutil>=2.8.2 in /usr/local/lib/python3.10/dist-packages (from pandas->datasets) (2.8.2)\n",
            "Requirement already satisfied: pytz>=2020.1 in /usr/local/lib/python3.10/dist-packages (from pandas->datasets) (2023.4)\n",
            "Requirement already satisfied: tzdata>=2022.1 in /usr/local/lib/python3.10/dist-packages (from pandas->datasets) (2024.1)\n",
            "Requirement already satisfied: six>=1.5 in /usr/local/lib/python3.10/dist-packages (from python-dateutil>=2.8.2->pandas->datasets) (1.16.0)\n"
          ]
        }
      ],
      "source": [
        "# @title\n",
        "!pip install datasets"
      ]
    },
    {
      "cell_type": "code",
      "execution_count": 25,
      "metadata": {
        "id": "tgdx4m8lE1X2"
      },
      "outputs": [],
      "source": [
        "# @title\n",
        "from datasets import load_dataset\n",
        "\n",
        "# dataset = load_dataset(\"OdiaGenAI/Odia_Alpaca_instructions_52k\")\n",
        "dataset = load_dataset(\"Telugu-LLM-Labs/marathi_alpaca_yahma_cleaned_filtered\")\n",
        "\n"
      ]
    },
    {
      "cell_type": "code",
      "execution_count": 26,
      "metadata": {
        "id": "tI2TQFxkGHvo"
      },
      "outputs": [],
      "source": [
        "# @title\n",
        "# dataset['train'][0]\n",
        "# Assuming dataset['train'] contains all your data\n",
        "data = dataset['train']\n",
        "\n",
        "# Extracting 'english_instruction' as 'inputs'\n",
        "inputs = [entry['instruction'] for entry in data]\n",
        "\n",
        "# Extracting 'instruction' as 'targets'\n",
        "targets = [entry['marathi_instruction'] for entry in data]\n",
        "\n"
      ]
    },
    {
      "cell_type": "code",
      "execution_count": 27,
      "metadata": {
        "colab": {
          "base_uri": "https://localhost:8080/",
          "height": 206
        },
        "id": "_NiClCqFHooc",
        "outputId": "bb50de6b-8fb3-4e00-c6bb-87867c010327"
      },
      "outputs": [
        {
          "output_type": "execute_result",
          "data": {
            "text/plain": [
              "                                              inputs  \\\n",
              "0               Give three tips for staying healthy.   \n",
              "1                 What are the three primary colors?   \n",
              "2                 Describe the structure of an atom.   \n",
              "3                   How can we reduce air pollution?   \n",
              "4  Pretend you are a project manager of a constru...   \n",
              "\n",
              "                                             targets  \n",
              "0                 निरोगी राहण्यासाठी तीन टिप्स द्या.  \n",
              "1                          तीन मुख्य रंग कोणते आहेत?  \n",
              "2                        अणूच्या संरचनेचे वर्णन करा.  \n",
              "3                    वायू प्रदूषण कसे कमी करता येईल?  \n",
              "4  आपण बांधकाम कंपनीचे प्रकल्प व्यवस्थापक असल्याच...  "
            ],
            "text/html": [
              "\n",
              "  <div id=\"df-7898d49f-f690-40d3-aa77-e99e0f8f7be6\" class=\"colab-df-container\">\n",
              "    <div>\n",
              "<style scoped>\n",
              "    .dataframe tbody tr th:only-of-type {\n",
              "        vertical-align: middle;\n",
              "    }\n",
              "\n",
              "    .dataframe tbody tr th {\n",
              "        vertical-align: top;\n",
              "    }\n",
              "\n",
              "    .dataframe thead th {\n",
              "        text-align: right;\n",
              "    }\n",
              "</style>\n",
              "<table border=\"1\" class=\"dataframe\">\n",
              "  <thead>\n",
              "    <tr style=\"text-align: right;\">\n",
              "      <th></th>\n",
              "      <th>inputs</th>\n",
              "      <th>targets</th>\n",
              "    </tr>\n",
              "  </thead>\n",
              "  <tbody>\n",
              "    <tr>\n",
              "      <th>0</th>\n",
              "      <td>Give three tips for staying healthy.</td>\n",
              "      <td>निरोगी राहण्यासाठी तीन टिप्स द्या.</td>\n",
              "    </tr>\n",
              "    <tr>\n",
              "      <th>1</th>\n",
              "      <td>What are the three primary colors?</td>\n",
              "      <td>तीन मुख्य रंग कोणते आहेत?</td>\n",
              "    </tr>\n",
              "    <tr>\n",
              "      <th>2</th>\n",
              "      <td>Describe the structure of an atom.</td>\n",
              "      <td>अणूच्या संरचनेचे वर्णन करा.</td>\n",
              "    </tr>\n",
              "    <tr>\n",
              "      <th>3</th>\n",
              "      <td>How can we reduce air pollution?</td>\n",
              "      <td>वायू प्रदूषण कसे कमी करता येईल?</td>\n",
              "    </tr>\n",
              "    <tr>\n",
              "      <th>4</th>\n",
              "      <td>Pretend you are a project manager of a constru...</td>\n",
              "      <td>आपण बांधकाम कंपनीचे प्रकल्प व्यवस्थापक असल्याच...</td>\n",
              "    </tr>\n",
              "  </tbody>\n",
              "</table>\n",
              "</div>\n",
              "    <div class=\"colab-df-buttons\">\n",
              "\n",
              "  <div class=\"colab-df-container\">\n",
              "    <button class=\"colab-df-convert\" onclick=\"convertToInteractive('df-7898d49f-f690-40d3-aa77-e99e0f8f7be6')\"\n",
              "            title=\"Convert this dataframe to an interactive table.\"\n",
              "            style=\"display:none;\">\n",
              "\n",
              "  <svg xmlns=\"http://www.w3.org/2000/svg\" height=\"24px\" viewBox=\"0 -960 960 960\">\n",
              "    <path d=\"M120-120v-720h720v720H120Zm60-500h600v-160H180v160Zm220 220h160v-160H400v160Zm0 220h160v-160H400v160ZM180-400h160v-160H180v160Zm440 0h160v-160H620v160ZM180-180h160v-160H180v160Zm440 0h160v-160H620v160Z\"/>\n",
              "  </svg>\n",
              "    </button>\n",
              "\n",
              "  <style>\n",
              "    .colab-df-container {\n",
              "      display:flex;\n",
              "      gap: 12px;\n",
              "    }\n",
              "\n",
              "    .colab-df-convert {\n",
              "      background-color: #E8F0FE;\n",
              "      border: none;\n",
              "      border-radius: 50%;\n",
              "      cursor: pointer;\n",
              "      display: none;\n",
              "      fill: #1967D2;\n",
              "      height: 32px;\n",
              "      padding: 0 0 0 0;\n",
              "      width: 32px;\n",
              "    }\n",
              "\n",
              "    .colab-df-convert:hover {\n",
              "      background-color: #E2EBFA;\n",
              "      box-shadow: 0px 1px 2px rgba(60, 64, 67, 0.3), 0px 1px 3px 1px rgba(60, 64, 67, 0.15);\n",
              "      fill: #174EA6;\n",
              "    }\n",
              "\n",
              "    .colab-df-buttons div {\n",
              "      margin-bottom: 4px;\n",
              "    }\n",
              "\n",
              "    [theme=dark] .colab-df-convert {\n",
              "      background-color: #3B4455;\n",
              "      fill: #D2E3FC;\n",
              "    }\n",
              "\n",
              "    [theme=dark] .colab-df-convert:hover {\n",
              "      background-color: #434B5C;\n",
              "      box-shadow: 0px 1px 3px 1px rgba(0, 0, 0, 0.15);\n",
              "      filter: drop-shadow(0px 1px 2px rgba(0, 0, 0, 0.3));\n",
              "      fill: #FFFFFF;\n",
              "    }\n",
              "  </style>\n",
              "\n",
              "    <script>\n",
              "      const buttonEl =\n",
              "        document.querySelector('#df-7898d49f-f690-40d3-aa77-e99e0f8f7be6 button.colab-df-convert');\n",
              "      buttonEl.style.display =\n",
              "        google.colab.kernel.accessAllowed ? 'block' : 'none';\n",
              "\n",
              "      async function convertToInteractive(key) {\n",
              "        const element = document.querySelector('#df-7898d49f-f690-40d3-aa77-e99e0f8f7be6');\n",
              "        const dataTable =\n",
              "          await google.colab.kernel.invokeFunction('convertToInteractive',\n",
              "                                                    [key], {});\n",
              "        if (!dataTable) return;\n",
              "\n",
              "        const docLinkHtml = 'Like what you see? Visit the ' +\n",
              "          '<a target=\"_blank\" href=https://colab.research.google.com/notebooks/data_table.ipynb>data table notebook</a>'\n",
              "          + ' to learn more about interactive tables.';\n",
              "        element.innerHTML = '';\n",
              "        dataTable['output_type'] = 'display_data';\n",
              "        await google.colab.output.renderOutput(dataTable, element);\n",
              "        const docLink = document.createElement('div');\n",
              "        docLink.innerHTML = docLinkHtml;\n",
              "        element.appendChild(docLink);\n",
              "      }\n",
              "    </script>\n",
              "  </div>\n",
              "\n",
              "\n",
              "<div id=\"df-a5d15efe-3c2f-4934-a2ad-ceaf75019448\">\n",
              "  <button class=\"colab-df-quickchart\" onclick=\"quickchart('df-a5d15efe-3c2f-4934-a2ad-ceaf75019448')\"\n",
              "            title=\"Suggest charts\"\n",
              "            style=\"display:none;\">\n",
              "\n",
              "<svg xmlns=\"http://www.w3.org/2000/svg\" height=\"24px\"viewBox=\"0 0 24 24\"\n",
              "     width=\"24px\">\n",
              "    <g>\n",
              "        <path d=\"M19 3H5c-1.1 0-2 .9-2 2v14c0 1.1.9 2 2 2h14c1.1 0 2-.9 2-2V5c0-1.1-.9-2-2-2zM9 17H7v-7h2v7zm4 0h-2V7h2v10zm4 0h-2v-4h2v4z\"/>\n",
              "    </g>\n",
              "</svg>\n",
              "  </button>\n",
              "\n",
              "<style>\n",
              "  .colab-df-quickchart {\n",
              "      --bg-color: #E8F0FE;\n",
              "      --fill-color: #1967D2;\n",
              "      --hover-bg-color: #E2EBFA;\n",
              "      --hover-fill-color: #174EA6;\n",
              "      --disabled-fill-color: #AAA;\n",
              "      --disabled-bg-color: #DDD;\n",
              "  }\n",
              "\n",
              "  [theme=dark] .colab-df-quickchart {\n",
              "      --bg-color: #3B4455;\n",
              "      --fill-color: #D2E3FC;\n",
              "      --hover-bg-color: #434B5C;\n",
              "      --hover-fill-color: #FFFFFF;\n",
              "      --disabled-bg-color: #3B4455;\n",
              "      --disabled-fill-color: #666;\n",
              "  }\n",
              "\n",
              "  .colab-df-quickchart {\n",
              "    background-color: var(--bg-color);\n",
              "    border: none;\n",
              "    border-radius: 50%;\n",
              "    cursor: pointer;\n",
              "    display: none;\n",
              "    fill: var(--fill-color);\n",
              "    height: 32px;\n",
              "    padding: 0;\n",
              "    width: 32px;\n",
              "  }\n",
              "\n",
              "  .colab-df-quickchart:hover {\n",
              "    background-color: var(--hover-bg-color);\n",
              "    box-shadow: 0 1px 2px rgba(60, 64, 67, 0.3), 0 1px 3px 1px rgba(60, 64, 67, 0.15);\n",
              "    fill: var(--button-hover-fill-color);\n",
              "  }\n",
              "\n",
              "  .colab-df-quickchart-complete:disabled,\n",
              "  .colab-df-quickchart-complete:disabled:hover {\n",
              "    background-color: var(--disabled-bg-color);\n",
              "    fill: var(--disabled-fill-color);\n",
              "    box-shadow: none;\n",
              "  }\n",
              "\n",
              "  .colab-df-spinner {\n",
              "    border: 2px solid var(--fill-color);\n",
              "    border-color: transparent;\n",
              "    border-bottom-color: var(--fill-color);\n",
              "    animation:\n",
              "      spin 1s steps(1) infinite;\n",
              "  }\n",
              "\n",
              "  @keyframes spin {\n",
              "    0% {\n",
              "      border-color: transparent;\n",
              "      border-bottom-color: var(--fill-color);\n",
              "      border-left-color: var(--fill-color);\n",
              "    }\n",
              "    20% {\n",
              "      border-color: transparent;\n",
              "      border-left-color: var(--fill-color);\n",
              "      border-top-color: var(--fill-color);\n",
              "    }\n",
              "    30% {\n",
              "      border-color: transparent;\n",
              "      border-left-color: var(--fill-color);\n",
              "      border-top-color: var(--fill-color);\n",
              "      border-right-color: var(--fill-color);\n",
              "    }\n",
              "    40% {\n",
              "      border-color: transparent;\n",
              "      border-right-color: var(--fill-color);\n",
              "      border-top-color: var(--fill-color);\n",
              "    }\n",
              "    60% {\n",
              "      border-color: transparent;\n",
              "      border-right-color: var(--fill-color);\n",
              "    }\n",
              "    80% {\n",
              "      border-color: transparent;\n",
              "      border-right-color: var(--fill-color);\n",
              "      border-bottom-color: var(--fill-color);\n",
              "    }\n",
              "    90% {\n",
              "      border-color: transparent;\n",
              "      border-bottom-color: var(--fill-color);\n",
              "    }\n",
              "  }\n",
              "</style>\n",
              "\n",
              "  <script>\n",
              "    async function quickchart(key) {\n",
              "      const quickchartButtonEl =\n",
              "        document.querySelector('#' + key + ' button');\n",
              "      quickchartButtonEl.disabled = true;  // To prevent multiple clicks.\n",
              "      quickchartButtonEl.classList.add('colab-df-spinner');\n",
              "      try {\n",
              "        const charts = await google.colab.kernel.invokeFunction(\n",
              "            'suggestCharts', [key], {});\n",
              "      } catch (error) {\n",
              "        console.error('Error during call to suggestCharts:', error);\n",
              "      }\n",
              "      quickchartButtonEl.classList.remove('colab-df-spinner');\n",
              "      quickchartButtonEl.classList.add('colab-df-quickchart-complete');\n",
              "    }\n",
              "    (() => {\n",
              "      let quickchartButtonEl =\n",
              "        document.querySelector('#df-a5d15efe-3c2f-4934-a2ad-ceaf75019448 button');\n",
              "      quickchartButtonEl.style.display =\n",
              "        google.colab.kernel.accessAllowed ? 'block' : 'none';\n",
              "    })();\n",
              "  </script>\n",
              "</div>\n",
              "\n",
              "    </div>\n",
              "  </div>\n"
            ],
            "application/vnd.google.colaboratory.intrinsic+json": {
              "type": "dataframe",
              "variable_name": "df",
              "summary": "{\n  \"name\": \"df\",\n  \"rows\": 28910,\n  \"fields\": [\n    {\n      \"column\": \"inputs\",\n      \"properties\": {\n        \"dtype\": \"string\",\n        \"num_unique_values\": 28894,\n        \"samples\": [\n          \"Convert the number 2.5p to its exact decimal.\",\n          \"Compose an essay from the given statement.\",\n          \"Write a customer service response to address the following customer inquiry: \\\"I received the wrong item, what should I do?\"\n        ],\n        \"semantic_type\": \"\",\n        \"description\": \"\"\n      }\n    },\n    {\n      \"column\": \"targets\",\n      \"properties\": {\n        \"dtype\": \"string\",\n        \"num_unique_values\": 28888,\n        \"samples\": [\n          \"\\u0935\\u093e\\u092a\\u0930\\u0932\\u0947\\u0932\\u094d\\u092f\\u093e \\u0915\\u093e\\u0917\\u0926\\u093e\\u091a\\u0947 \\u0928\\u0935\\u094d\\u092f\\u093e \\u0915\\u093e\\u0917\\u0926\\u093e\\u0924 \\u0930\\u0942\\u092a\\u093e\\u0902\\u0924\\u0930 \\u0915\\u0930\\u0923\\u094d\\u092f\\u093e\\u091a\\u094d\\u092f\\u093e \\u092a\\u094d\\u0930\\u0915\\u094d\\u0930\\u093f\\u092f\\u0947\\u0932\\u093e \\u0915\\u093e\\u092f \\u092e\\u094d\\u0939\\u0923\\u0924\\u093e\\u0924?\",\n          \"\\u0911\\u091f\\u094b\\u092e\\u0947\\u0936\\u0928 \\u092f\\u093e \\u0938\\u0902\\u0915\\u0932\\u094d\\u092a\\u0928\\u0947\\u091a\\u0940 \\u0913\\u0933\\u0916 \\u0915\\u0930\\u0942\\u0928 \\u0926\\u0947\\u0923\\u093e\\u0930\\u0947 \\u092d\\u093e\\u0937\\u0923 \\u0932\\u093f\\u0939\\u093e.\",\n          \"\\u0917\\u0941\\u0902\\u0924\\u093e\\u0917\\u0941\\u0902\\u0924\\u0940\\u091a\\u0940 \\u0938\\u0902\\u0915\\u0932\\u094d\\u092a\\u0928\\u093e \\u0938\\u092e\\u091c\\u093e\\u0935\\u0942\\u0928 \\u0938\\u093e\\u0902\\u0917\\u0923\\u094d\\u092f\\u093e\\u0938\\u093e\\u0920\\u0940 \\u090f\\u0915 \\u0909\\u092a\\u092e\\u093e \\u0924\\u092f\\u093e\\u0930 \\u0915\\u0930\\u093e.\"\n        ],\n        \"semantic_type\": \"\",\n        \"description\": \"\"\n      }\n    }\n  ]\n}"
            }
          },
          "metadata": {},
          "execution_count": 27
        }
      ],
      "source": [
        "# @title\n",
        "import pandas as pd\n",
        "\n",
        "# Creating a DataFrame\n",
        "df = pd.DataFrame({'inputs': inputs, 'targets': targets})\n",
        "\n",
        "# Displaying the DataFrame\n",
        "# print(df)\n",
        "df.head()"
      ]
    },
    {
      "cell_type": "code",
      "source": [
        "# @title\n",
        "df = df[0:5000]\n",
        "df.shape"
      ],
      "metadata": {
        "colab": {
          "base_uri": "https://localhost:8080/"
        },
        "id": "CMxYjTGaCF2d",
        "outputId": "26eb393b-7c5d-4a52-8b1a-4d7f73a16d6c"
      },
      "execution_count": 28,
      "outputs": [
        {
          "output_type": "execute_result",
          "data": {
            "text/plain": [
              "(5000, 2)"
            ]
          },
          "metadata": {},
          "execution_count": 28
        }
      ]
    },
    {
      "cell_type": "markdown",
      "source": [],
      "metadata": {
        "id": "WibkzGWe3lR8"
      }
    },
    {
      "cell_type": "markdown",
      "metadata": {
        "id": "OM_1pbPtMpV9"
      },
      "source": [
        "### Indic to English Example"
      ]
    },
    {
      "cell_type": "code",
      "execution_count": 9,
      "metadata": {
        "id": "NXGBi-FzGubL",
        "colab": {
          "base_uri": "https://localhost:8080/",
          "height": 422,
          "referenced_widgets": [
            "812a10277f514318be30782d72c413ac",
            "c1becd87e6984996b6013cd0a4453721",
            "584fa0ed17fd406caa86bb97aa542b7a",
            "7720b9030e5040b6b68d2b560db35ade",
            "376793a02ae34c6988c4187bd9d16ba9",
            "60f4b3604006411682c24e707d3382ff",
            "2f26e2da77a6482a8db415a18a884743",
            "5b0ded301ccf49a68923a71d95cd11db",
            "f3cec51593954465b4eefbe5d50a522b",
            "ec3dc72468ba42abad73051fe08ac11e",
            "52fa314a20444a108df4fb915cc47ec7",
            "609fb5e186d74fd7a82f01179ac2bb4a",
            "e9830bfa7d9a40aa99dbd689960af510",
            "71611defd02943bbaa309422427ee3e7",
            "69515328475a4bbebdccaaed9725b327",
            "822465a8b0304f36b4dddfb4555bbba5",
            "0ab4577d352940839e3bc0b998136348",
            "8186d9ccb5aa47188e7b10ed10526a5e",
            "c5162bd3904441818ae495c744bdf71f",
            "7ef01d0a40314203886bf2032c6f6383",
            "1585ed973bbf48fc8d4ef6601967a427",
            "5be5aa8c2a384c8e8cee065344e5bb9f",
            "88ca22f32f924876a4e689bdd5ae43a8",
            "c2939f0ce91249a192f0ca605ec038b0",
            "f4ce982eee61431a898b7bf0d21ec816",
            "4e7c0a27085546868211fec47c06b74e",
            "52fa849a03f44b10a1198935eb73f1ba",
            "1739375c522f4111b0ab140caebedbd2",
            "c92fbeb100984273b5248cc43d097299",
            "8c2c2dd73edd4955a738f1c5aeede17d",
            "35a17f2b971f4dedb72492ccc40fef54",
            "a7518dea6a89483d9f1df9b0be7c221d",
            "0e5be7f95d134b2780d766e340f72f24",
            "6ecc12573c824a7c8c3c7976ae73e4e9",
            "94604ccc3d9a4b828012617ce4ad603e",
            "ff813e08bf394fedb1ad42b7305945f5",
            "6c30a8dc07af4330809cdf5f0a7e97fe",
            "7d8907d58b8645648c53175c662a3bc3",
            "7d5c7bbbe61f4b0eb222ca90d11226a1",
            "7de776e9986d407cb9a6dff49fb4ceb8",
            "9338de23b2014f64868012b71caa289d",
            "a9079431e18d4e988ed025bddf77d8b5",
            "309bbc2e810c42769a1e6e3255d69a8e",
            "fbfee0452e844a8fabb642b6021e4597",
            "519cd751265f4d9b971ee268024b4d8f",
            "fc7b03b8c3b241faa2a5d6ac68efde46",
            "de611625aa9c430681405a1823e93528",
            "5dfa606377b740e5ac3c2b13eb5481bf",
            "1c39548daff742bca31450b2754ccfd6",
            "c837900fdfa7439581406a5b502b6a3f",
            "bcba882046b8413086d6238c90272f83",
            "f5e92aff59c24984bbf8e19a301ed7ee",
            "9794e9d593e34319a9f26e143eb96dd5",
            "7774a46fabaf42a0a450c263f292b21e",
            "c892008c2a1942198dbc6f4b995b99d8"
          ]
        },
        "outputId": "b6834625-0a5b-49d6-cf4c-bb401087c49d"
      },
      "outputs": [
        {
          "output_type": "stream",
          "name": "stderr",
          "text": [
            "<ipython-input-3-42749fc931ab>:17: DeprecationWarning: This IndicTransTokenizer is deprecated.\n",
            "The official Tokenizer is available on HF and can be used as follows:\n",
            "```\n",
            "from transformers import AutoTokenizer\n",
            "tokenizer = AutoTokenizer.from_pretrained(model_name)\n",
            "```\n",
            "  tokenizer = IndicTransTokenizer(direction=direction)\n"
          ]
        },
        {
          "output_type": "display_data",
          "data": {
            "text/plain": [
              "config.json:   0%|          | 0.00/1.31k [00:00<?, ?B/s]"
            ],
            "application/vnd.jupyter.widget-view+json": {
              "version_major": 2,
              "version_minor": 0,
              "model_id": "812a10277f514318be30782d72c413ac"
            }
          },
          "metadata": {}
        },
        {
          "output_type": "display_data",
          "data": {
            "text/plain": [
              "configuration_indictrans.py:   0%|          | 0.00/14.1k [00:00<?, ?B/s]"
            ],
            "application/vnd.jupyter.widget-view+json": {
              "version_major": 2,
              "version_minor": 0,
              "model_id": "609fb5e186d74fd7a82f01179ac2bb4a"
            }
          },
          "metadata": {}
        },
        {
          "output_type": "stream",
          "name": "stderr",
          "text": [
            "A new version of the following files was downloaded from https://huggingface.co/ai4bharat/indictrans2-indic-en-1B:\n",
            "- configuration_indictrans.py\n",
            ". Make sure to double-check they do not contain any added malicious code. To avoid downloading new versions of the code file, you can pin a revision.\n"
          ]
        },
        {
          "output_type": "display_data",
          "data": {
            "text/plain": [
              "modeling_indictrans.py:   0%|          | 0.00/61.2k [00:00<?, ?B/s]"
            ],
            "application/vnd.jupyter.widget-view+json": {
              "version_major": 2,
              "version_minor": 0,
              "model_id": "88ca22f32f924876a4e689bdd5ae43a8"
            }
          },
          "metadata": {}
        },
        {
          "output_type": "stream",
          "name": "stderr",
          "text": [
            "A new version of the following files was downloaded from https://huggingface.co/ai4bharat/indictrans2-indic-en-1B:\n",
            "- modeling_indictrans.py\n",
            ". Make sure to double-check they do not contain any added malicious code. To avoid downloading new versions of the code file, you can pin a revision.\n"
          ]
        },
        {
          "output_type": "display_data",
          "data": {
            "text/plain": [
              "pytorch_model.bin:   0%|          | 0.00/4.09G [00:00<?, ?B/s]"
            ],
            "application/vnd.jupyter.widget-view+json": {
              "version_major": 2,
              "version_minor": 0,
              "model_id": "6ecc12573c824a7c8c3c7976ae73e4e9"
            }
          },
          "metadata": {}
        },
        {
          "output_type": "display_data",
          "data": {
            "text/plain": [
              "generation_config.json:   0%|          | 0.00/163 [00:00<?, ?B/s]"
            ],
            "application/vnd.jupyter.widget-view+json": {
              "version_major": 2,
              "version_minor": 0,
              "model_id": "519cd751265f4d9b971ee268024b4d8f"
            }
          },
          "metadata": {}
        }
      ],
      "source": [
        "indic_en_ckpt_dir = \"ai4bharat/indictrans2-indic-en-1B\"  # ai4bharat/indictrans2-indic-en-dist-200M\n",
        "indic_en_tokenizer, indic_en_model = initialize_model_and_tokenizer(indic_en_ckpt_dir, \"indic-en\", \"\")\n",
        "\n",
        "ip = IndicProcessor(inference=True)"
      ]
    },
    {
      "cell_type": "code",
      "execution_count": null,
      "metadata": {
        "id": "PLCEWJKvGG9I"
      },
      "outputs": [],
      "source": [
        "\n",
        "or_sents = df['targets']\n",
        "src_lang, tgt_lang = \"mar_Deva\", \"eng_Latn\"\n",
        "en_translations = batch_translate(or_sents, src_lang, tgt_lang, indic_en_model, indic_en_tokenizer, ip)\n",
        "\n",
        "# for input_sentence, translation in zip(hi_sents, en_translations):\n",
        "#     print(f\"'{input_sentence}',\")\n",
        "    # print(f\"{tgt_lang}: {translation}\")\n",
        "# print(f\"\\n{src_lang} - {tgt_lang}\")\n",
        "# for input_sentence, translation in zip(or_sents, en_translations):\n",
        "#     print(f\"{src_lang}: {input_sentence}\")\n",
        "#     print(f\"{tgt_lang}: {translation}\")\n",
        "\n"
      ]
    },
    {
      "cell_type": "code",
      "source": [
        "df['translated_eng'] = en_translations\n",
        "df.head()"
      ],
      "metadata": {
        "id": "W5gOnDb4GpFe"
      },
      "execution_count": null,
      "outputs": []
    },
    {
      "cell_type": "code",
      "execution_count": null,
      "metadata": {
        "id": "CFe8GICEgEhb"
      },
      "outputs": [],
      "source": [
        "# flush the models to free the GPU memory\n",
        "del indic_en_tokenizer, indic_en_model"
      ]
    },
    {
      "cell_type": "code",
      "source": [
        "stop here"
      ],
      "metadata": {
        "id": "KPzJNzjWUXhk"
      },
      "execution_count": null,
      "outputs": []
    },
    {
      "cell_type": "markdown",
      "metadata": {
        "id": "7VCAkyKBGtnV"
      },
      "source": [
        "### Indic to Indic Example\n"
      ]
    },
    {
      "cell_type": "code",
      "execution_count": null,
      "metadata": {
        "id": "_HgokNRCgOM3"
      },
      "outputs": [],
      "source": [
        "indic_indic_ckpt_dir = \"ai4bharat/indictrans2-indic-indic-1B\"  # ai4bharat/indictrans2-indic-indic-dist-320M\n",
        "indic_indic_tokenizer, indic_indic_model = initialize_model_and_tokenizer(indic_indic_ckpt_dir, \"indic-indic\", quantization)\n",
        "\n",
        "ip = IndicProcessor(inference=True)"
      ]
    },
    {
      "cell_type": "code",
      "execution_count": null,
      "metadata": {
        "id": "_7TxTTCoKjti"
      },
      "outputs": [],
      "source": [
        "\n",
        "\n",
        "hi_sents = [\n",
        "'जब मैं छोटा था, मैं हर दिन पार्क जाता था।',\n",
        "'जब मैं छोटा था, मैं हर दिन मॉल जाता था।',\n",
        "'जब मैं छोटा था, मैं हर दिन स्कूल जाता था।',\n",
        "'जब मैं छोटा था, मैं हर दिन बगीचे में जाता था।',\n",
        "'जब मैं छोटा था, मैं हर दिन पुस्तकालय जाता था।',\n",
        "'जब मैं छोटा था, तो मैं हर दिन पार्लर जाता था।',\n",
        "'जब मैं छोटा था, मैं हर दिन सैलून जाता था।',\n",
        "'जब मैं छोटा था, तो मैं हर दिन अस्पताल जाता था।',\n",
        "'चलो आज दोपहर डेढ़ बजे मिलते हैं।',\n",
        "'चलो आज दोपहर ढाई बजे मिलते हैं।',\n",
        "             'चलो आज दोपहर पौने चार बजे मिलते हैं।',\n",
        "'चलो आज दोपहर पौने चार बजे मिलते हैं।',\n",
        "\n",
        "'आप पर मेरा ₹१२३४ बकाया है।',\n",
        "'आप पर मेरा ₹१२३४ बकाया है। मुझे पेटीएम करें। #PaytmKaro',\n",
        "'सभागार में केवल ४५६ सीटें बची थीं।',\n",
        "'सभागार में केवल कुछ छोटी सीटें बची थीं।',\n",
        "'भोपाल गैस त्रासदी में लगभग ३,००० लोगों की मौत हो गई',\n",
        "'भोपाल गैस त्रासदी में लगभग ३००० लोगों की मौत हो गई',\n",
        "'भोपाल गैस त्रासदी में लगभग तीन हजार लोगों की मौत हो गई',\n",
        "'बहानगा ट्रेन दुर्घटना में लगभग ३०० लोगों की मौत हो गई',\n",
        "'बहानगा ट्रेन दुर्घटना में लगभग तीन सौ लोगों की मौत हो गई',\n",
        "'हम नवी मुंबई गए।',\n",
        "'हम माउंट एवरेस्ट गए।',\n",
        "'हमने आलू भर्ता खाया।',\n",
        "'हम भारतीय भुने हुए आलू खाते थे।',\n",
        "'हम रसगुल्ला खाते थे।',\n",
        "'चलो कुछ चाट के लिए बाहर जाते हैं, मुझे मसालेदार स्वाद पसंद हैं।',\n",
        "'छोले एक मसालेदार चने की करी है, जो कुछ नान रोटी के साथ एकदम सही है।',\n",
        "'पानी पुरी खाना चाहते हैं?',\n",
        "'पानी पुरी खाना चाहते हैं?',\n",
        "'मैं आज रात मैगी खाना चाहूँगा।',\n",
        "'गोकुलधाम गोरेगांव पूर्व में है। मैं वहाँ रहता हूँ।',\n",
        "\"भारतीय पर्यटन की टैगलाइन 'अतुल्य भारत!' के साथ-साथ 'अतिथी देवो भव' का नारा है।\",\n",
        "\"तेलंगाना की टैगलाइन 'इट्स ऑल इन इट' है।\",\n",
        "'तेलंगाना की टैगलाइन यह है कि इसमें सब कुछ है।',\n",
        "'मेरे पैसे वापस कर दो! नहीं तो आप बर्बाद हो जाएँगे!!!',\n",
        "'उनके पास कई पुरानी किताबें हैं, जो उन्हें अपने पूर्वजों से विरासत में मिली हैं। मुझे समझ नहीं आ रहा है कि मैं अपनी समस्या का समाधान कैसे करूं।',\n",
        "'वह बहुत मेहनती और बुद्धिमान है, यही कारण है कि उसे सभी अच्छे अंक मिले।',\n",
        "'वह बहुत मेहनती और बुद्धिमान है, यानी उसे सभी जी. आई. डी. अंक मिले हैं।',\n",
        "'वह बहुत मेहनती और बुद्धिमान है, जो कि Y है, उसे सभी G00d अंक मिले हैं।',\n",
        "'बरसात के मौसम में पराठा खाने का एक अलग आनंद होता है।',\n",
        "'बरसात के मौसम में पराठा खाने में मजा आता है।',\n",
        "\"हमने पिछले हफ्ते एक नई फिल्म 'शैतान' देखी, जो बहुत डरावनी थी।\",\n",
        "'अगर आप उस समय मुझसे मिलते तो हम बाहर खाना खाने जाते।',\n",
        "'वह अपनी बहन के साथ नई साड़ी खरीदने के लिए बाजार गई थी।',\n",
        "'राज ने मुझे बताया कि वह अगले महीने अपनी दादी के घर जा रहा है।',\n",
        "'रानी ने मुझे बताया कि वह अगले महीने अपनी दादी के घर जा रही है।',\n",
        "'उन्होंने मुझे बताया कि वे अगले महीने अपनी दादी के घर जा रहे हैं।',\n",
        "'राज ने मुझे बताया कि वह अगले महीने अपने दादा के घर जा रहा है।',\n",
        "'रानी ने मुझे बताया कि वह अगले महीने अपने दादा के घर जा रही है।',\n",
        "'उन्होंने मुझे बताया कि वे अगले महीने अपने दादा के घर जा रहे हैं।',\n",
        "'कृपया संबंधित केंद्रों पर गेट परीक्षा के लिए कोविड प्रतिबंधों के लिए एस. ओ. पी. का पालन करें।',\n",
        "'जब आप रोगियों से मिलने जाते हैं तो पी. पी. ई. किट अवश्य पहनें।',\n",
        "'कोविड-19 खांसने/छींकने और दूषित सतहों को छूने से निकलने वाली बूंदों के माध्यम से फैलता है। कोरोना वायरस के कारण, इसे मास्क, दूरी के साथ रोका जा सकता है और संबंधित केंद्रों पर गेट के लिए कोविड प्रतिबंधों के लिए एस. ओ. पी. का बार-बार पालन करें।',\n",
        "'अच्छी सुबह!!',\n",
        "'शुभ प्रभात!',\n",
        "'शुभ प्रभात!!',\n",
        "'शुभ प्रभात।',\n",
        "'हम आपको एक मेरी क्रिसमस और एक खुशहाल नए साल की कामना करते हैं',\n",
        "'हम आपको क्रिसमस और नए साल की शुभकामनाएँ देते हैं।',\n",
        "'ओरियन मॉल की ग्रैंड सेल में जरूर जाएँ।',\n",
        "'ओरियन मॉल में भव्य बिक्री पर अवश्य जाएँः)',\n",
        "'मुझे बिल्लियाँ पसंद हैं (^ . ^) <3',\n",
        "'मैं उन्हें पार्टी में देखकर हैरान था ( O_O )',\n",
        "'मेरे दोस्त ने मुझे अपने जन्मदिन की पार्टी में आमंत्रित किया है, और मैं उसे एक उपहार दूंगा।',\n",
        "'वह अपनी कक्षा में टॉपर है।',\n",
        "'आपका अच्छा नाम क्या है?',\n",
        "'वह स्टेशन से बाहर है।',\n",
        "'मैं संभाल लूंगा।',\n",
        "'क्या आपके पास कलम है?',\n",
        "'अपने जूतों को बाहर छोड़ दें।',\n",
        "'वह एक बैकबेंचर हैं।',\n",
        "'कृपया सहयोग करें।',\n",
        "'उसका वजन बढ़ रहा है।',\n",
        "'क्या मुझे थोड़ा पानी मिल सकता है?',\n",
        "'वह छुट्टी पर है।',\n",
        "'आज के लिए आपका क्या कार्यक्रम है?',\n",
        "'कृपया बैठ जाएँ।',\n",
        "'परीक्षा के लिए आपको बहुत-बहुत बधाई!',\n",
        "'कृपया वापस लौटें।',\n",
        "'मैं जाँच करूँगा और आपके पास वापस जाऊँगा।',\n",
        "'आपकी उम्र क्या है?',\n",
        "'कृपया जल्दी आ जाएँ।',\n",
        "'मुझे भूख लग रही है।',\n",
        "'उसे सर्दी-जुकाम है।',\n",
        "'ट्रेन देर से चल रही है।',\n",
        "'बाजार जाएँ तो 5 किलो आलू लाएँ।',\n",
        "'हम आपको अपनी उपस्थिति के साथ हमें खुश करने के लिए आमंत्रित कर रहे हैं क्योंकि हम, अभिषेक और श्वेता, शादी में एकजुट होते हैं। आइए 4 अप्रैल, 2024 को एक साथ अविस्मरणीय यादें बनाएं।',\n",
        "'रवि चमक रहा है।',\n",
        " 'रवि मुस्कुरा रहा है।',\n",
        "'ब्रिटिश सैनिकों ने अमृतसर में एक शांतिपूर्ण भीड़ पर गोलीबारी की, जिसमें सैकड़ों निहत्थे नागरिक मारे गए, जिससे आक्रोश फैल गया और भारतीय स्वतंत्रता आंदोलन भड़क उठा।',\n",
        "'भारत और पाकिस्तान में ब्रिटिश भारत के विभाजन ने बड़े पैमाने पर विस्थापन और हिंसा को जन्म दिया, जिससे उपमहाद्वीप पर एक स्थायी निशान रह गया।',\n",
        "'मेरा इलाज बैंगलोर बैपटिस्ट अस्पताल में हुआ।',\n",
        "'बैपटिस्ट में मेरा इलाज हुआ।',\n",
        "'मुझे बैपटिस्ट में इलाज मिला।',\n",
        "'मेरा इलाज बैंगलोर के बैपटिस्ट अस्पताल में हुआ।',\n",
        "'स्वर्ग और पुरुषों और शैतानों को, उन सभी को, सभी, सभी, मेरे खिलाफ शर्म से चिल्लाने दें, फिर भी मैं बोलूंगा।',\n",
        "'मुझे यह पोशाक चर्च स्ट्रीट से मिली थी।',\n",
        "'मुझे यह पोशाक चर्च की सड़क से मिली।',\n",
        "'वह अपनी गाड़ी पार्क के पास खड़ी करेगी।',\n",
        "'मेरा इलाज बैंगलोर बैपटिस्ट अस्पताल में हुआ।',\n",
        "'स्वर्ग और पुरुषों और शैतानों को, उन सभी को, सभी, सभी, मेरे खिलाफ शर्म से चिल्लाने दें, फिर भी मैं बोलूंगा।',\n",
        "'मुझे यह पोशाक च्रुच स्ट्रीट से मिली थी।',\n",
        "'अपने काम पर विजय प्राप्त करें और अहंकार, क्रोध, काम, आसक्ति और लालच के खिंचाव का विरोध करें।',\n",
        "'यह काल की शक्ति और काल की अनिवार्यता की याद दिलाता है।',\n",
        "             \"फ़ांस मैच जीतने के लिए बहुत सारे टोटके अस्मते है\",\n",
        "             \"नानी माँ के लूसके हमेशा काम आते हैं\",\n",
        "             'जब लाइफ़ हो आउट ऑफ कंट्रोल होठों को करके गोल होठों को करके गोल सीटी बजाके बोल आल इज़ वेल',\n",
        "    'मेरे भाई की माँ की बेटी की इकलौती भाई की पत्नी के बेटे की माँ मेरी भाभी है',\n",
        "    \"जब मैं छोटा था, मैं हर रोज़ पार्क जाता था।\",\n",
        "    \"उसके पास बहुत सारी पुरानी किताबें हैं, जिन्हें उसने अपने दादा-परदादा से विरासत में पाया।\",\n",
        "    \"मुझे समझ में नहीं आ रहा कि मैं अपनी समस्या का समाधान कैसे ढूंढूं।\",\n",
        "    \"वह बहुत मेहनती और समझदार है, इसलिए उसे सभी अच्छे मार्क्स मिले।\",\n",
        "    \"हमने पिछले सप्ताह एक नई फिल्म देखी जो कि बहुत प्रेरणादायक थी।\",\n",
        "    \"अगर तुम मुझे उस समय पास मिलते, तो हम बाहर खाना खाने चलते।\",\n",
        "    \"वह अपनी दीदी के साथ बाजार गयी थी ताकि वह नई साड़ी खरीद सके।\",\n",
        "    \"राज ने मुझसे कहा कि वह अगले महीने अपनी नानी के घर जा रहा है।\",\n",
        "    \"सभी बच्चे पार्टी में मज़ा कर रहे थे और खूब सारी मिठाइयाँ खा रहे थे।\",\n",
        "    \"मेरे मित्र ने मुझे उसके जन्मदिन की पार्टी में बुलाया है, और मैं उसे एक तोहफा दूंगा।\",\n",
        "    \"आप पर मेरा ₹1234 बकाया है।  पेटीएम करें।\",\n",
        "    \"वह समुद्र तट पर समुद्री गोले बेचती है।\",\n",
        "    \"मेरे चचेरे भाइयों ने मेरे भाई की शादी में नृत्य किया\",\n",
        "    \"मेरे भाभी को चॉकलेट पसंद है\",\n",
        "    \"मेरे भाई को चॉकलेट खाना बहुत पसंद है।\",\n",
        "    \"मेरे मामा की जूतों की दुकान है।\",\n",
        "    \"मेरी नानी हमारे लिए स्वादिष्ट खाना बनाती हैं।\",\n",
        "    \"मेरी ताई जी रोज जिम जाती हैं।\",\n",
        "    \"मेरे जीजा ने मेहमानों के लिए जगह साफ करने में मेरी मदद की।\",\n",
        "    \"मेरी बड़ी माँ ने मेहमानों के लिए जगह साफ करने में मेरी मदद की\",\n",
        "    \"मेरी दादी हमारे लिए स्वादिष्ट भोजन बनाती हैं।\",\n",
        "    \"मेरे दादा एक बुद्धिमान व्यक्ति हैं।\",\n",
        "    \"हम कल अपनी दादी के घर गए थे।\",\n",
        "    \"हम आज अपनी चाची के पास जाएँगे।\",\n",
        "    \"मेरी नीस इतनी प्यारी है कि जब भी मैं उसे देखता हूं तो मैं उसका चेहरा निचोड़ना चाहता हूं।\",\n",
        "    \"मेरे भतीजे ने पिछले हफ्ते स्कूल जाना शुरू कर दिया।\"\n",
        "    \"यह बच्चा मेरी आँखों का तारा है\",\n",
        "    \"उसकी क्या बात कर रहे हो, वह तो मेरे खून का प्यासा हो गया है।\",\n",
        "    \"आतंकवादियों को देखकर मेरा तो खून ठण्डा पड़ गया।\",\n",
        "    \"आई.पी.एस पास करके दीक्षा ने सचमुच गढ़ फतह कर लिया।\",\n",
        "    \"कार्तिक गधे को बाप बनाना अच्छी तरह जानता हैं।\",\n",
        "    \"अभी आपको मेरी बात समझ में नहीं आ रही, जब जूते पड़ेंगे तब समझ में आएगी।\",\n",
        "    \"जहाँ चाह, वहाँ राह।\",\n",
        "    \"हर कड़ी में राह होती है।\",\n",
        "    \"काम का बोझ भारी होता है।\",\n",
        "    \"रोम एक दिन में नहीं बना था।\",\n",
        "    \"अब पछताए होत क्या जब चिड़ीया चुग गई खेत।\",\n",
        "    \"हर चमकते चीज सोना नहीं होती।\",\n",
        "    \"दो गलत सही नहीं बनाते।\",\n",
        "    \"जहाँ धूम है, वहाँ आग होगी।\",\n",
        "    \"विद्यार्थी स्कूल जाने का समय है। यह बहुत महत्वपूर्ण है कि आप समय पर स्कूल पहुंचें ताकि आप अपने पढ़ाई में निरंतरता बनाए रख सकें। स्कूल जाना आपके शिक्षा के लिए आवश्यक है और यह आपके भविष्य को सुनिश्चित करने में मदद कर सकता है। इसलिए, आप आज के दिन को सकारात्मकता के साथ शुरू करें और स्कूल के लिए समय पर निकलें। शुभ कामनाएं!\",\n",
        "    \"शुभ प्रभात! आपका दिन सुखमय और सफल हो\",\n",
        "    \"दिव्यांग व्यक्तियों की मदद करना सामाजिक जिम्मेदारी है।\",\n",
        "    \"इन व्यक्तियों को समाज में समाहित करने और उन्हें समर्थ बनाने के लिए हमें सकारात्मक कदम उठाने चाहिए\",\n",
        "    \"दिव्यांग व्यक्तियों के साथ सहानुभूति और समर्थन बनाए रखना अत्यंत महत्वपूर्ण है।\",\n",
        "    \"उन्हें समाज में पूरी तरह से शामिल करना और उनकी सामाजिक समाहिति को बढ़ावा देना।\",\n",
        "    \"उन्हें उच्च शिक्षा और प्रशिक्षण के अवसरों का भी लाभ दिलाना।\",\n",
        "    \"सरकार और सामाजिक संगठनों से उनके लिए सुविधाएं और योजनाएं मांगना और उन्हें इनका लाभ उठाने में मदद करना।\",\n",
        "    \"उन्हें रोजगार के अवसरों को सुझाना और उन्हें समर्थ बनाने के लिए तकनीकी और व्यावासायिक प्रशिक्षण प्रदान करना।\",\n",
        "    \"सामाजिक संगठनों में सक्रियता दिखाना और दिव्यांगता के मुद्दों पर जागरूकता फैलाना।\",\n",
        "    \"यह सभी कदम सामूहिक रूप से समृद्धि और समाज में समाहिति की दिशा में सहायक हो सकते हैं।\",\n",
        "    \"कनक कनक ते सौ गुनी, मादकता अधिकाय। वा खाए बौराय जग, या पाए बौराय।\",\n",
        "    \"उसकी मुस्कान सूर्य की किरणों की तरह चमक रही थी।\",\n",
        "    \"समय एक अजीब सा दरवाज़ा है, जो कभी फिर नहीं खुलता।\",\n",
        "    \"बादल बढ़ रहे हैं, बारिश बरस रही है।\",\n",
        "    \"बस बुढ़िया बैठी बाल कांपा कर बोली।\",\n",
        "    \"बाग़ के फूलों ने रात को महका दिया।\",\n",
        "    \"गंगा जी की धारा, स्वर्ग से भी प्यारी है।\",\n",
        "    \"सुरमा स्वर्ग से सजीवनी लेकर आई।\",\n",
        "    \"उसकी आँखों में आसमान का रंग और उसके बोल में दरिया की गहराई थी\",\n",
        "    \"हनुमान की पूंछ में लगन ना पाई आग, लंका सारी जल गई, गए निशाचर भग\"\n",
        "\n",
        "]\n",
        "src_lang, tgt_lang = \"hin_Deva\", \"ory_Orya\"\n",
        "mr_translations = batch_translate(hi_sents, src_lang, tgt_lang, indic_indic_model, indic_indic_tokenizer, ip)\n",
        "\n",
        "print(f\"\\n{src_lang} - {tgt_lang}\")\n",
        "for input_sentence, translation in zip(hi_sents, mr_translations):\n",
        "    print(f\"{src_lang}: {input_sentence}\")\n",
        "    print(f\"{tgt_lang}: {translation}\")\n"
      ]
    },
    {
      "cell_type": "code",
      "execution_count": null,
      "metadata": {
        "id": "HjQ8GLE4iUJX"
      },
      "outputs": [],
      "source": [
        "# for input_sentence, translation in zip(hi_sents, mr_translations):\n",
        "#     # print(f\"{src_lang}: {input_sentence}\")\n",
        "#     print(f\"'{translation}',\")"
      ]
    },
    {
      "cell_type": "code",
      "execution_count": null,
      "metadata": {
        "id": "q7xc-jdDevZc"
      },
      "outputs": [],
      "source": [
        "\n",
        "\n",
        "or_sents = [\n",
        "    'ଯେତେବେଳେ ମୁଁ ଛୋଟ ଥିଲି, ମୁଁ ପ୍ରତିଦିନ ପାର୍କକୁ ଯାଉଥିଲି।',\n",
        "'ଯେତେବେଳେ ମୁଁ ଛୋଟ ଥିଲି, ମୁଁ ପ୍ରତିଦିନ ମଲ୍କୁ ଯାଉଥିଲି।',\n",
        "'ଯେତେବେଳେ ମୁଁ ଛୋଟ ଥିଲି, ମୁଁ ପ୍ରତିଦିନ ବିଦ୍ୟାଳୟ ଯାଉଥିଲି।',\n",
        "'ଯେତେବେଳେ ମୁଁ ଛୋଟ ଥିଲି, ମୁଁ ପ୍ରତିଦିନ ବଗିଚାକୁ ଯାଉଥିଲି।',\n",
        "'ଯେତେବେଳେ ମୁଁ ଛୋଟ ଥିଲି, ମୁଁ ପ୍ରତିଦିନ ପାଠାଗାରକୁ ଯାଉଥିଲି।',\n",
        "'ଯେତେବେଳେ ମୁଁ ଛୋଟ ଥିଲି, ମୁଁ ପ୍ରତିଦିନ ପାର୍ଲର୍କୁ ଯାଉଥିଲି।',\n",
        "'ଯେତେବେଳେ ମୁଁ ଛୋଟ ଥିଲି, ମୁଁ ପ୍ରତିଦିନ ସେଲୁନ ଯାଉଥିଲି।',\n",
        "'ଯେତେବେଳେ ମୁଁ ଛୋଟ ଥିଲି, ମୁଁ ପ୍ରତିଦିନ ଡାକ୍ତରଖାନାକୁ ଯାଉଥିଲି।',\n",
        "'ଆଜି ଅପରାହ୍ନ ଦେଢ଼ଟାରେ ଭେଟିବା।',\n",
        "'ଚାଲନ୍ତୁ ଆଜି ଅପରାହ୍ନ ଚାରିଟାରେ ଭେଟିବା।',\n",
        "'ଚାଲନ୍ତୁ ଆଜି ଅପରାହ୍ନ ଚାରିଟାରେ ଭେଟିବା।',\n",
        "'ଆପଣମାନେ ମୋ ଉପରେ ୧୨୩୪ ଟଙ୍କା ବକେଯ଼ା ରଖିଛନ୍ତି।',\n",
        "'ମୋ ଉପରେ ଆପଣଙ୍କର ୧୨୩୪ ଟଙ୍କା ବକେଯ଼ା ଅଛି। ମୋତେ ପେଟିଏମ୍ କରନ୍ତୁ। #PaytmKaro',\n",
        "'ସଭାଗାରରେ କେବଳ ୪୫୬ଟି ଆସନ ବାକି ଥିଲା।',\n",
        "'ଅଡିଟୋରିଯ଼ମରେ କେବଳ କିଛି ଛୋଟ ଆସନ ବାକି ଥିଲା।',\n",
        "'ଭୋପାଳ ଗ୍ଯ଼ାସ୍ ଦୁର୍ଘଟଣାରେ ପ୍ରାଯ଼ ୩,୦୦୦ ଲୋକ ପ୍ରାଣ ହରାଇଛନ୍ତି।',\n",
        "'ଭୋପାଳ ଗ୍ଯ଼ାସ୍ ଦୁର୍ଘଟଣାରେ ପ୍ରାଯ଼ ୩୦୦୦ ଲୋକ ପ୍ରାଣ ହରାଇଛନ୍ତି।',\n",
        "'ଭୋପାଳ ଗ୍ଯ଼ାସ୍ ଦୁର୍ଘଟଣାରେ ପ୍ରାଯ଼ ତିନି ହଜାର ଲୋକ ପ୍ରାଣ ହରାଇଛନ୍ତି।',\n",
        "'ବାହାନାଙ୍ଗା ଟ୍ରେନ୍ ଦୁର୍ଘଟଣାରେ ପ୍ରାଯ଼ ୩୦୦ ଜଣଙ୍କର ମୃତ୍ଯ଼ୁ',\n",
        "'ବାହାନାଙ୍ଗା ଟ୍ରେନ୍ ଦୁର୍ଘଟଣାରେ ପ୍ରାଯ଼ ତିନି ଶହ ଲୋକ ପ୍ରାଣ ହରାଇଥିଲେ।',\n",
        "'ଆମେ ନାଭି ମୁମ୍ବାଇ ଗଲୁ।',\n",
        "'ଆମେ ମାଉଣ୍ଟ ଏଭରେଷ୍ଟ ଯାଇଥିଲୁ।',\n",
        "'ଆମେ ଆଳୁ ଭର୍ତା ଖାଇଲୁ।',\n",
        "'ଆମେ ରସଗୋଲା ଖାଉଥିଲୁ।',\n",
        "'ଚାଲ ଚାଟ୍ ପାଇଁ ବାହାରକୁ ଯିବା, ମୁଁ ମସଲାଯୁକ୍ତ ସ୍ୱାଦ ପସନ୍ଦ କରେ |',\n",
        "'ଚୋଲେ ହେଉଛି ଏକ ମସଲାଯୁକ୍ତ ଚଣା ତରକାରୀ, ଯାହା କିଛି ନାନ ରୁଟି ସହିତ ଉପଯୁକ୍ତ |',\n",
        "'ପାଣି ପୁରୀ ଖାଇବାକୁ ଚାହୁଁଛନ୍ତି କି?',\n",
        "'ମୁଁ ଆଜି ରାତିରେ ମ୍ଯ଼ାଗି ଖାଇବାକୁ ଚାହୁଁଛି।',\n",
        "'ଗୋରେଗାଓଁ ଇଷ୍ଟରେ ଗୋକୁଳଧାମ ଅଛି। ମୁଁ ସେଠାରେ ରୁହେ।',\n",
        "\"ଭାରତୀଯ଼ ପର୍ଯ୍ଯ଼ଟନର ଟ୍ଯ଼ାଗଲାଇନ ହେଉଛି 'ଅତୁଳନୀୟ ଭାରତ!'ଏବଂ ଏହାର ସ୍ଲୋଗାନ ହେଉଛି 'ଅତିଥୀ ଦେବ ଭବ'।\",\n",
        "\"ତେଲେଙ୍ଗାନାର ଟ୍ଯ଼ାଗଲାଇନ ହେଉଛି 'ଇଟ୍ସ୍ ଅଲ୍ ଇନ୍ ଇଟ୍'।\",\n",
        "'ତେଲେଙ୍ଗାନାର ଟ୍ଯ଼ାଗଲାଇନ ହେଉଛି ଯେ ଏଥିରେ ସବୁକିଛି ଅଛି।',\n",
        "'ମୋ ଟଙ୍କା ଫେରସ୍ତ କର! ନଚେତ୍ ତୁମେ ନଷ୍ଟ ହୋଇଯିବ!!!',\n",
        "'ତାଙ୍କ ପାଖରେ ଅନେକ ପୁରୁଣା ପୁସ୍ତକ ଅଛି, ଯାହା ସେ ତାଙ୍କ ପୂର୍ବପୁରୁଷଙ୍କଠାରୁ ଉତ୍ତରାଧିକାରରେ ପାଇଛନ୍ତି। ମୁଁ ବୁଝିପାରୁନାହିଁ ଯେ ମୁଁ ମୋର ସମସ୍ଯ଼ାକୁ କିପରି ସମାଧାନ କରିବି।',\n",
        "'ସେ ବହୁତ ପରିଶ୍ରମୀ ଏବଂ ବୁଦ୍ଧିମାନ, ସେଥିପାଇଁ ସେ ସମସ୍ତ ଭଲ ଅଙ୍କ ପାଇଥିଲେ।',\n",
        "'ସେ ବହୁତ ପରିଶ୍ରମୀ ଏବଂ ବୁଦ୍ଧିମାନ, ଯାହା ୱାଇ, ତାଙ୍କର ସମସ୍ତ ଜି00ଡି ଅଙ୍କ ଅଛି।',\n",
        "'ବର୍ଷା ଋତୁରେ ପକୁଡି ଖାଇବା ଏକ ଭିନ୍ନ ଆନନ୍ଦ।',\n",
        "\"ଆମେ ଗତ ସପ୍ତାହରେ 'ଶୈତାନ' ନାମକ ଏକ ନୂଆ ଚଳଚ୍ଚିତ୍ର ଦେଖିଲୁ, ଯାହା ଅତ୍ଯ଼ନ୍ତ ଭଯ଼ଙ୍କର ଥିଲା।\",\n",
        "'ଯଦି ଆପଣ ମୋତେ ସେହି ସମଯ଼ରେ ଭେଟିଥାନ୍ତେ, ତେବେ ଆମେ ରାତ୍ରିଭୋଜନ ପାଇଁ ବାହାରକୁ ଯାଇଥାନ୍ତେ',\n",
        "'ସେ ତାଙ୍କ ଦିଦିଙ୍କ ସହ ନୂଆ ଶାଢ଼ୀ କିଣିବା ପାଇଁ ବଜାରକୁ ଯାଇଥିଲେ।',\n",
        "\"ରାଜ ମୋତେ କହିଥିଲେ ଯେ ସେ ଆସନ୍ତା ମାସରେ ତାଙ୍କ ଜେଜେମା 'ଙ୍କ ଘରକୁ ଯାଉଛନ୍ତି।\",\n",
        "\"ରାଣୀ ମୋତେ କହିଥିଲେ ଯେ ସେ ଆସନ୍ତା ମାସରେ ତାଙ୍କ ଜେଜେମା 'ଙ୍କ ଘରକୁ ଯାଉଛନ୍ତି।\",\n",
        "\"ସେମାନେ ମୋତେ କହିଥିଲେ ଯେ ସେମାନେ ଆସନ୍ତା ମାସରେ ସେମାନଙ୍କ ଆଈ'ଙ୍କ ଘରକୁ ଯାଉଛନ୍ତି।\",\n",
        "'ରାଜ ମୋତେ କହିଥିଲେ ଯେ ସେ ଆସନ୍ତା ମାସରେ ତାଙ୍କ ଅଜାଙ୍କ ଘରକୁ ଯାଉଛନ୍ତି।',\n",
        "'ରାଣୀ ମୋତେ କହିଥିଲେ ଯେ ସେ ଆସନ୍ତା ମାସରେ ତାଙ୍କ ଜେଜେବାପାଙ୍କ ଘରକୁ ଯାଉଛନ୍ତି।',\n",
        "'ସେମାନେ ମୋତେ କହିଥିଲେ ଯେ ସେମାନେ ଆସନ୍ତା ମାସରେ ସେମାନଙ୍କ ଜେଜେବାପାଙ୍କ ଘରକୁ ଯାଉଛନ୍ତି।',\n",
        "'ଦଯ଼ାକରି ସମ୍ପୃକ୍ତ କେନ୍ଦ୍ରରେ ଗେଟ୍ ପରୀକ୍ଷା ପାଇଁ କୋଭିଡ ପ୍ରତିବନ୍ଧକ ପାଇଁ ଏସ୍. ଓ. ପି. ଅନୁସରଣ କରନ୍ତୁ।',\n",
        "'ରୋଗୀମାନଙ୍କୁ ଭେଟିବା ସମଯ଼ରେ ପି. ପି. ଇ. କିଟ୍ ପିନ୍ଧିବା ନିଶ୍ଚିତ କରନ୍ତୁ।',\n",
        "'କାଶ/ଛିଙ୍କିବା ଏବଂ ଦୂଷିତ ପୃଷ୍ଠକୁ ଛୁଇଁବା ଦ୍ୱାରା ବାହାରିଥିବା ବୁନ୍ଦା ମାଧ୍ଯ଼ମରେ COVID-19 ବ୍ଯ଼ାପିଥାଏ | କରୋନଭାଇରସ୍ ହେତୁ, ଏହାକୁ ମାସ୍କ, ଦୂରତା ସହିତ ରୋକାଯାଇପାରିବ ଏବଂ ସମ୍ପୃକ୍ତ କେନ୍ଦ୍ରରେ ଗେଟ୍ ପାଇଁ COVID ପ୍ରତିବନ୍ଧକ ପାଇଁ<unk> କୁ ବାରମ୍ବାର ଅନୁସରଣ କରାଯାଇପାରିବ |',\n",
        "'ଶୁଭ ସକାଳ!!',\n",
        "'ସୁପ୍ରଭାତ',\n",
        "'ଆମେ ଆପଣଙ୍କୁ ଖ୍ରୀଷ୍ଟମାସ ଏବଂ ନୂତନ ବର୍ଷର ଶୁଭେଚ୍ଛା ଜଣାଉଛୁ।',\n",
        "'ଓରିଅନ୍ ମଲ୍ର ଗ୍ରାଣ୍ଡ ସେଲ୍କୁ ନିଶ୍ଚଯ଼ ଯାଆନ୍ତୁ।',\n",
        "'ମୁଁ ବିଲେଇମାନଙ୍କୁ ଭଲ ପାଏ ( ^.^ ) <3',\n",
        "'ପାର୍ଟିରେ ତାଙ୍କୁ ଦେଖି ମୁଁ ଆଶ୍ଚର୍ଯ୍ଯ଼ ହୋଇଯାଇଥିଲି ( O_O )',\n",
        "'ମୋ ବନ୍ଧୁ ମୋତେ ତାଙ୍କ ଜନ୍ମଦିନ ପାର୍ଟିକୁ ନିମନ୍ତ୍ରଣ କରିଛନ୍ତି, ଏବଂ ମୁଁ ତାଙ୍କୁ ଏକ ଉପହାର ଦେବି।',\n",
        "'ସେ ତାଙ୍କ ଶ୍ରେଣୀରେ ଟପ୍ପର ଅଟନ୍ତି।',\n",
        "'ଆପଣଙ୍କ ଭଲ ନାମ କ \"ଣ?',\n",
        "'ସେ ଷ୍ଟେସନ ବାହାରେ ଅଛନ୍ତି।',\n",
        "'ମୁଁ ଏହାର ଯତ୍ନ ନେବି।',\n",
        "'ଆପଣଙ୍କ ପାଖରେ କଲମ ଅଛି କି?',\n",
        "'ଜୋତା ଗୁଡ଼ିକୁ ବାହାରେ ଛାଡ଼ି ଦିଅନ୍ତୁ।',\n",
        "'ସେ ଜଣେ ବ୍ଯ଼ାକ୍ବେଞ୍ଚର୍।',\n",
        "'ଦଯ଼ାକରି ସହଯୋଗ କରନ୍ତୁ।',\n",
        "'ତାଙ୍କର ଓଜନ ବଢ଼ୁଛି।',\n",
        "'ମୁଁ କିଛି ପାଣି ପାଇପାରିବି କି?',\n",
        "'ସେ ଛୁଟିରେ ଅଛନ୍ତି।',\n",
        "'ଆଜି ପାଇଁ ଆପଣଙ୍କ କାର୍ଯ୍ଯ଼ସୂଚୀ କ \"ଣ?',\n",
        "'ଦଯ଼ାକରି ବସନ୍ତୁ।',\n",
        "'ଏହି ପରୀକ୍ଷା ପାଇଁ ଆପଣଙ୍କୁ ବହୁତ ବହୁତ ଅଭିନନ୍ଦନ!',\n",
        "'ଦଯ଼ାକରି ଫେରିଯାଆନ୍ତୁ।',\n",
        "'ମୁଁ ଯାଞ୍ଚ କରିବି ଏବଂ ତୁମ ପାଖକୁ ଫେରିବି।',\n",
        "'ଆପଣଙ୍କ ବଯ଼ସ କେତେ?',\n",
        "'ଦଯ଼ାକରି ଶୀଘ୍ର ପହଞ୍ଚନ୍ତୁ।',\n",
        "'ମୁଁ ଭୋକିଲା ଅଛି।',\n",
        "'ତାଙ୍କୁ ଥଣ୍ଡା ଅଛି।',\n",
        "'ଟ୍ରେନ୍ ବିଳମ୍ବରେ ଚାଲୁଛି।',\n",
        "'ଯେତେବେଳେ ଆପଣ ବଜାରକୁ ଯାଆନ୍ତି, ୫ କିଲୋ ଆଳୁ ଆଣନ୍ତୁ।',\n",
        "'ଆମେ ଆପଣଙ୍କୁ ଆମ ଉପସ୍ଥିତି ଦ୍ୱାରା ଆମକୁ ଖୁସି କରିବା ପାଇଁ ନିମନ୍ତ୍ରଣ କରୁଛୁ କାରଣ ଆମେ, ଅଭିଷେକ ଏବଂ ଶ୍ୱେତା, ବିବାହରେ ଏକାଠି ଅଛୁ | ଆସନ୍ତୁ ଏପ୍ରିଲ୍ 4,2024 ରେ ଏକାଠି ଅବିସ୍ମରଣୀଯ଼ ସ୍ମୃତି ସୃଷ୍ଟି କରିବା |',\n",
        "'ରବି ଚମକି ପଡ଼ୁଛି।',\n",
        "'ରବି ହସୁଛି।',\n",
        "'ବ୍ରିଟିଶ ସୈନିକମାନେ ଅମୃତସରରେ ଏକ ଶାନ୍ତିପୂର୍ଣ୍ଣ ଭିଡ଼ ଉପରେ ଗୁଳି ଚଳାଇଥିଲେ, ଯେଉଁଥିରେ ଶହ ଶହ ନିରସ୍ତ୍ର ନାଗରିକଙ୍କ ମୃତ୍ଯ଼ୁ ଘଟିଥିଲା, ଯାହା କ୍ରୋଧ ସୃଷ୍ଟି କରିଥିଲା ଏବଂ ଭାରତୀଯ଼ ସ୍ୱାଧୀନତା ଆନ୍ଦୋଳନକୁ ଉତ୍ତେଜିତ କରିଥିଲା।',\n",
        "'ଭାରତ ଏବଂ ପାକିସ୍ତାନରେ ବ୍ରିଟିଶ ଭାରତର ବିଭାଜନ ବ୍ଯ଼ାପକ ବିସ୍ଥାପନ ଏବଂ ହିଂସାକୁ ଜନ୍ମ ଦେଇଥିଲା, ଯାହା ଉପମହାଦେଶରେ ଏକ ସ୍ଥାଯ଼ୀ ଚିହ୍ନ ଛାଡିଥିଲା।',\n",
        "'ବାଙ୍ଗାଲୋର ବାପ୍ଟିଷ୍ଟ ହସ୍ପିଟାଲରେ ମୋର ଚିକିତ୍ସା କରାଯାଇଥିଲା।',\n",
        "'ବାପ୍ଟିଷ୍ଟଠାରେ ମୋର ଚିକିତ୍ସା କରାଯାଇଥିଲା।',\n",
        "'ମୁଁ ବାପ୍ଟିଷ୍ଟରେ ଚିକିତ୍ସା ପାଇଲି।',\n",
        "'ବାଙ୍ଗାଲୋରର ବାପ୍ଟିଷ୍ଟ ହସ୍ପିଟାଲରେ ମୋର ଚିକିତ୍ସା କରାଯାଇଥିଲା।',\n",
        "'ସ୍ୱର୍ଗ ଏବଂ ମନୁଷ୍ଯ଼ ଏବଂ ଶଯ଼ତାନ, ସେମାନେ ସମସ୍ତେ, ସମସ୍ତେ, ମୋ ବିରୁଦ୍ଧରେ ଲଜ୍ଜାରେ ଚିତ୍କାର କରନ୍ତୁ, ତଥାପି ମୁଁ କହିବି।',\n",
        "'ମୁଁ ଏହି ପୋଷାକ ଚର୍ଚ୍ଚ ଷ୍ଟ୍ରିଟ୍ ରୁ ପାଇଲି।',\n",
        "'ସେ ତାଙ୍କ କାରକୁ ପାର୍କ ନିକଟରେ ପାର୍କିଂ କରିବେ।',\n",
        "'ଆପଣଙ୍କ କାର୍ଯ୍ଯ଼କୁ ଅତିକ୍ରମ କରନ୍ତୁ ଏବଂ ଅହଂକାର, କ୍ରୋଧ, କାମ, ଆସକ୍ତି ଏବଂ ଲୋଭର ଆକର୍ଷଣକୁ ପ୍ରତିରୋଧ କରନ୍ତୁ।',\n",
        "'ଏହା କାଳର ଶକ୍ତି ଏବଂ କାଳର ଅପରିହାର୍ଯ୍ଯ଼ତାର ଏକ ଅନୁସ୍ମାରକ।',\n",
        "'ପ୍ରଶଂସକ ମ୍ଯ଼ାଚ୍ ଜିତିବା ପାଇଁ ଅନେକ କୌଶଳ ଅଛି |',\n",
        "\n",
        "]\n",
        "src_lang, tgt_lang = \"ory_Orya\",\"hin_Deva\"\n",
        "hi_translations = batch_translate(or_sents, src_lang, tgt_lang, indic_indic_model, indic_indic_tokenizer, ip)\n",
        "\n",
        "print(f\"\\n{src_lang} - {tgt_lang}\")\n",
        "for input_sentence, translation in zip(or_sents, hi_translations):\n",
        "    print(f\"{src_lang}: {input_sentence}\")\n",
        "    print(f\"{tgt_lang}: {translation}\")\n"
      ]
    },
    {
      "cell_type": "code",
      "execution_count": null,
      "metadata": {
        "id": "aPLOgBx6gL7W"
      },
      "outputs": [],
      "source": [
        "\n",
        "# flush the models to free the GPU memory\n",
        "del indic_indic_tokenizer, indic_indic_model"
      ]
    },
    {
      "cell_type": "code",
      "source": [],
      "metadata": {
        "id": "M8NI6neCT0tW"
      },
      "execution_count": null,
      "outputs": []
    },
    {
      "cell_type": "markdown",
      "source": [
        "## BLUE SCORE ODIA"
      ],
      "metadata": {
        "id": "pLClOs4k3JeD"
      }
    },
    {
      "cell_type": "code",
      "source": [
        "# prefect match\n",
        "from nltk.translate.bleu_score import sentence_bleu"
      ],
      "metadata": {
        "id": "RaE35eWSSQh1"
      },
      "execution_count": 20,
      "outputs": []
    },
    {
      "cell_type": "code",
      "source": [
        "def split_to_words(df, col_name, refFlag):\n",
        "    list_of_words=[]\n",
        "    for sentence in df[col_name]:\n",
        "        # Split the sentence into words\n",
        "        words = sentence.split()\n",
        "        if refFlag:\n",
        "          list_of_words.append([words])\n",
        "        else:\n",
        "             list_of_words.append(words)\n",
        "    return list_of_words\n"
      ],
      "metadata": {
        "id": "R9OJH8FwSSts"
      },
      "execution_count": 21,
      "outputs": []
    },
    {
      "cell_type": "code",
      "source": [
        "def getRefCand(df, refCol, candCol):\n",
        "  reference = split_to_words(df, refCol, True)\n",
        "  candidate=split_to_words(df, candCol, False)\n",
        "  return reference, candidate\n",
        "\n",
        "def avgBleuScore(reference, candidate ):\n",
        "  scoresList=[]\n",
        "  for i in range(len(candidate)):\n",
        "      score=sentence_bleu(reference[i], candidate[i])\n",
        "      scoresList.append(score)\n",
        "      # print(score)\n",
        "  return (sum(scoresList)/len(scoresList))\n"
      ],
      "metadata": {
        "id": "nS9Nh22EWDub"
      },
      "execution_count": 22,
      "outputs": []
    },
    {
      "cell_type": "markdown",
      "source": [
        "### English BLEU Score translated from Odia by IndicTrans2\n",
        "\n",
        "\n"
      ],
      "metadata": {
        "id": "l6Ezi79Deonp"
      }
    },
    {
      "cell_type": "code",
      "source": [
        "\n",
        "ref, cand = getRefCand(df, 'inputs', 'translated_eng')\n",
        "print(\"Average BLEU score for English translated from Odia by IndicTrans2:\", avgBleuScore(ref, cand))"
      ],
      "metadata": {
        "id": "ufpGe5-FfFbe"
      },
      "execution_count": null,
      "outputs": []
    },
    {
      "cell_type": "markdown",
      "source": [
        "### Odia BLEU Score translated from English by IndicTrans2"
      ],
      "metadata": {
        "id": "vK3SV92Rmwzc"
      }
    },
    {
      "cell_type": "code",
      "source": [
        "\n",
        "ref, cand = getRefCand(df, 'targets', 'translated_odia')\n",
        "print(\"Average BLEU score for English translated from Odia by IndicTrans2:\", avgBleuScore(ref, cand))\n"
      ],
      "metadata": {
        "id": "EvVhBJuXWzqJ",
        "colab": {
          "base_uri": "https://localhost:8080/",
          "height": 477
        },
        "outputId": "a83bbbec-34f6-44fe-cdaf-9f5f5aa1d283"
      },
      "execution_count": 24,
      "outputs": [
        {
          "output_type": "error",
          "ename": "KeyError",
          "evalue": "'translated_odia'",
          "traceback": [
            "\u001b[0;31m---------------------------------------------------------------------------\u001b[0m",
            "\u001b[0;31mKeyError\u001b[0m                                  Traceback (most recent call last)",
            "\u001b[0;32m/usr/local/lib/python3.10/dist-packages/pandas/core/indexes/base.py\u001b[0m in \u001b[0;36mget_loc\u001b[0;34m(self, key)\u001b[0m\n\u001b[1;32m   3652\u001b[0m         \u001b[0;32mtry\u001b[0m\u001b[0;34m:\u001b[0m\u001b[0;34m\u001b[0m\u001b[0;34m\u001b[0m\u001b[0m\n\u001b[0;32m-> 3653\u001b[0;31m             \u001b[0;32mreturn\u001b[0m \u001b[0mself\u001b[0m\u001b[0;34m.\u001b[0m\u001b[0m_engine\u001b[0m\u001b[0;34m.\u001b[0m\u001b[0mget_loc\u001b[0m\u001b[0;34m(\u001b[0m\u001b[0mcasted_key\u001b[0m\u001b[0;34m)\u001b[0m\u001b[0;34m\u001b[0m\u001b[0;34m\u001b[0m\u001b[0m\n\u001b[0m\u001b[1;32m   3654\u001b[0m         \u001b[0;32mexcept\u001b[0m \u001b[0mKeyError\u001b[0m \u001b[0;32mas\u001b[0m \u001b[0merr\u001b[0m\u001b[0;34m:\u001b[0m\u001b[0;34m\u001b[0m\u001b[0;34m\u001b[0m\u001b[0m\n",
            "\u001b[0;32m/usr/local/lib/python3.10/dist-packages/pandas/_libs/index.pyx\u001b[0m in \u001b[0;36mpandas._libs.index.IndexEngine.get_loc\u001b[0;34m()\u001b[0m\n",
            "\u001b[0;32m/usr/local/lib/python3.10/dist-packages/pandas/_libs/index.pyx\u001b[0m in \u001b[0;36mpandas._libs.index.IndexEngine.get_loc\u001b[0;34m()\u001b[0m\n",
            "\u001b[0;32mpandas/_libs/hashtable_class_helper.pxi\u001b[0m in \u001b[0;36mpandas._libs.hashtable.PyObjectHashTable.get_item\u001b[0;34m()\u001b[0m\n",
            "\u001b[0;32mpandas/_libs/hashtable_class_helper.pxi\u001b[0m in \u001b[0;36mpandas._libs.hashtable.PyObjectHashTable.get_item\u001b[0;34m()\u001b[0m\n",
            "\u001b[0;31mKeyError\u001b[0m: 'translated_odia'",
            "\nThe above exception was the direct cause of the following exception:\n",
            "\u001b[0;31mKeyError\u001b[0m                                  Traceback (most recent call last)",
            "\u001b[0;32m<ipython-input-24-8a22c2ca4888>\u001b[0m in \u001b[0;36m<cell line: 1>\u001b[0;34m()\u001b[0m\n\u001b[0;32m----> 1\u001b[0;31m \u001b[0mref\u001b[0m\u001b[0;34m,\u001b[0m \u001b[0mcand\u001b[0m \u001b[0;34m=\u001b[0m \u001b[0mgetRefCand\u001b[0m\u001b[0;34m(\u001b[0m\u001b[0mdf\u001b[0m\u001b[0;34m,\u001b[0m \u001b[0;34m'targets'\u001b[0m\u001b[0;34m,\u001b[0m \u001b[0;34m'translated_odia'\u001b[0m\u001b[0;34m)\u001b[0m\u001b[0;34m\u001b[0m\u001b[0;34m\u001b[0m\u001b[0m\n\u001b[0m\u001b[1;32m      2\u001b[0m \u001b[0mprint\u001b[0m\u001b[0;34m(\u001b[0m\u001b[0;34m\"Average BLEU score for English translated from Odia by IndicTrans2:\"\u001b[0m\u001b[0;34m,\u001b[0m \u001b[0mavgBleuScore\u001b[0m\u001b[0;34m(\u001b[0m\u001b[0mref\u001b[0m\u001b[0;34m,\u001b[0m \u001b[0mcand\u001b[0m\u001b[0;34m)\u001b[0m\u001b[0;34m)\u001b[0m\u001b[0;34m\u001b[0m\u001b[0;34m\u001b[0m\u001b[0m\n",
            "\u001b[0;32m<ipython-input-22-cc5bdc05f0c5>\u001b[0m in \u001b[0;36mgetRefCand\u001b[0;34m(df, refCol, candCol)\u001b[0m\n\u001b[1;32m      1\u001b[0m \u001b[0;32mdef\u001b[0m \u001b[0mgetRefCand\u001b[0m\u001b[0;34m(\u001b[0m\u001b[0mdf\u001b[0m\u001b[0;34m,\u001b[0m \u001b[0mrefCol\u001b[0m\u001b[0;34m,\u001b[0m \u001b[0mcandCol\u001b[0m\u001b[0;34m)\u001b[0m\u001b[0;34m:\u001b[0m\u001b[0;34m\u001b[0m\u001b[0;34m\u001b[0m\u001b[0m\n\u001b[1;32m      2\u001b[0m   \u001b[0mreference\u001b[0m \u001b[0;34m=\u001b[0m \u001b[0msplit_to_words\u001b[0m\u001b[0;34m(\u001b[0m\u001b[0mdf\u001b[0m\u001b[0;34m,\u001b[0m \u001b[0mrefCol\u001b[0m\u001b[0;34m,\u001b[0m \u001b[0;32mTrue\u001b[0m\u001b[0;34m)\u001b[0m\u001b[0;34m\u001b[0m\u001b[0;34m\u001b[0m\u001b[0m\n\u001b[0;32m----> 3\u001b[0;31m   \u001b[0mcandidate\u001b[0m\u001b[0;34m=\u001b[0m\u001b[0msplit_to_words\u001b[0m\u001b[0;34m(\u001b[0m\u001b[0mdf\u001b[0m\u001b[0;34m,\u001b[0m \u001b[0mcandCol\u001b[0m\u001b[0;34m,\u001b[0m \u001b[0;32mFalse\u001b[0m\u001b[0;34m)\u001b[0m\u001b[0;34m\u001b[0m\u001b[0;34m\u001b[0m\u001b[0m\n\u001b[0m\u001b[1;32m      4\u001b[0m   \u001b[0;32mreturn\u001b[0m \u001b[0mreference\u001b[0m\u001b[0;34m,\u001b[0m \u001b[0mcandidate\u001b[0m\u001b[0;34m\u001b[0m\u001b[0;34m\u001b[0m\u001b[0m\n\u001b[1;32m      5\u001b[0m \u001b[0;34m\u001b[0m\u001b[0m\n",
            "\u001b[0;32m<ipython-input-21-fdf2da0fe475>\u001b[0m in \u001b[0;36msplit_to_words\u001b[0;34m(df, col_name, refFlag)\u001b[0m\n\u001b[1;32m      1\u001b[0m \u001b[0;32mdef\u001b[0m \u001b[0msplit_to_words\u001b[0m\u001b[0;34m(\u001b[0m\u001b[0mdf\u001b[0m\u001b[0;34m,\u001b[0m \u001b[0mcol_name\u001b[0m\u001b[0;34m,\u001b[0m \u001b[0mrefFlag\u001b[0m\u001b[0;34m)\u001b[0m\u001b[0;34m:\u001b[0m\u001b[0;34m\u001b[0m\u001b[0;34m\u001b[0m\u001b[0m\n\u001b[1;32m      2\u001b[0m     \u001b[0mlist_of_words\u001b[0m\u001b[0;34m=\u001b[0m\u001b[0;34m[\u001b[0m\u001b[0;34m]\u001b[0m\u001b[0;34m\u001b[0m\u001b[0;34m\u001b[0m\u001b[0m\n\u001b[0;32m----> 3\u001b[0;31m     \u001b[0;32mfor\u001b[0m \u001b[0msentence\u001b[0m \u001b[0;32min\u001b[0m \u001b[0mdf\u001b[0m\u001b[0;34m[\u001b[0m\u001b[0mcol_name\u001b[0m\u001b[0;34m]\u001b[0m\u001b[0;34m:\u001b[0m\u001b[0;34m\u001b[0m\u001b[0;34m\u001b[0m\u001b[0m\n\u001b[0m\u001b[1;32m      4\u001b[0m         \u001b[0;31m# Split the sentence into words\u001b[0m\u001b[0;34m\u001b[0m\u001b[0;34m\u001b[0m\u001b[0m\n\u001b[1;32m      5\u001b[0m         \u001b[0mwords\u001b[0m \u001b[0;34m=\u001b[0m \u001b[0msentence\u001b[0m\u001b[0;34m.\u001b[0m\u001b[0msplit\u001b[0m\u001b[0;34m(\u001b[0m\u001b[0;34m)\u001b[0m\u001b[0;34m\u001b[0m\u001b[0;34m\u001b[0m\u001b[0m\n",
            "\u001b[0;32m/usr/local/lib/python3.10/dist-packages/pandas/core/frame.py\u001b[0m in \u001b[0;36m__getitem__\u001b[0;34m(self, key)\u001b[0m\n\u001b[1;32m   3759\u001b[0m             \u001b[0;32mif\u001b[0m \u001b[0mself\u001b[0m\u001b[0;34m.\u001b[0m\u001b[0mcolumns\u001b[0m\u001b[0;34m.\u001b[0m\u001b[0mnlevels\u001b[0m \u001b[0;34m>\u001b[0m \u001b[0;36m1\u001b[0m\u001b[0;34m:\u001b[0m\u001b[0;34m\u001b[0m\u001b[0;34m\u001b[0m\u001b[0m\n\u001b[1;32m   3760\u001b[0m                 \u001b[0;32mreturn\u001b[0m \u001b[0mself\u001b[0m\u001b[0;34m.\u001b[0m\u001b[0m_getitem_multilevel\u001b[0m\u001b[0;34m(\u001b[0m\u001b[0mkey\u001b[0m\u001b[0;34m)\u001b[0m\u001b[0;34m\u001b[0m\u001b[0;34m\u001b[0m\u001b[0m\n\u001b[0;32m-> 3761\u001b[0;31m             \u001b[0mindexer\u001b[0m \u001b[0;34m=\u001b[0m \u001b[0mself\u001b[0m\u001b[0;34m.\u001b[0m\u001b[0mcolumns\u001b[0m\u001b[0;34m.\u001b[0m\u001b[0mget_loc\u001b[0m\u001b[0;34m(\u001b[0m\u001b[0mkey\u001b[0m\u001b[0;34m)\u001b[0m\u001b[0;34m\u001b[0m\u001b[0;34m\u001b[0m\u001b[0m\n\u001b[0m\u001b[1;32m   3762\u001b[0m             \u001b[0;32mif\u001b[0m \u001b[0mis_integer\u001b[0m\u001b[0;34m(\u001b[0m\u001b[0mindexer\u001b[0m\u001b[0;34m)\u001b[0m\u001b[0;34m:\u001b[0m\u001b[0;34m\u001b[0m\u001b[0;34m\u001b[0m\u001b[0m\n\u001b[1;32m   3763\u001b[0m                 \u001b[0mindexer\u001b[0m \u001b[0;34m=\u001b[0m \u001b[0;34m[\u001b[0m\u001b[0mindexer\u001b[0m\u001b[0;34m]\u001b[0m\u001b[0;34m\u001b[0m\u001b[0;34m\u001b[0m\u001b[0m\n",
            "\u001b[0;32m/usr/local/lib/python3.10/dist-packages/pandas/core/indexes/base.py\u001b[0m in \u001b[0;36mget_loc\u001b[0;34m(self, key)\u001b[0m\n\u001b[1;32m   3653\u001b[0m             \u001b[0;32mreturn\u001b[0m \u001b[0mself\u001b[0m\u001b[0;34m.\u001b[0m\u001b[0m_engine\u001b[0m\u001b[0;34m.\u001b[0m\u001b[0mget_loc\u001b[0m\u001b[0;34m(\u001b[0m\u001b[0mcasted_key\u001b[0m\u001b[0;34m)\u001b[0m\u001b[0;34m\u001b[0m\u001b[0;34m\u001b[0m\u001b[0m\n\u001b[1;32m   3654\u001b[0m         \u001b[0;32mexcept\u001b[0m \u001b[0mKeyError\u001b[0m \u001b[0;32mas\u001b[0m \u001b[0merr\u001b[0m\u001b[0;34m:\u001b[0m\u001b[0;34m\u001b[0m\u001b[0;34m\u001b[0m\u001b[0m\n\u001b[0;32m-> 3655\u001b[0;31m             \u001b[0;32mraise\u001b[0m \u001b[0mKeyError\u001b[0m\u001b[0;34m(\u001b[0m\u001b[0mkey\u001b[0m\u001b[0;34m)\u001b[0m \u001b[0;32mfrom\u001b[0m \u001b[0merr\u001b[0m\u001b[0;34m\u001b[0m\u001b[0;34m\u001b[0m\u001b[0m\n\u001b[0m\u001b[1;32m   3656\u001b[0m         \u001b[0;32mexcept\u001b[0m \u001b[0mTypeError\u001b[0m\u001b[0;34m:\u001b[0m\u001b[0;34m\u001b[0m\u001b[0;34m\u001b[0m\u001b[0m\n\u001b[1;32m   3657\u001b[0m             \u001b[0;31m# If we have a listlike key, _check_indexing_error will raise\u001b[0m\u001b[0;34m\u001b[0m\u001b[0;34m\u001b[0m\u001b[0m\n",
            "\u001b[0;31mKeyError\u001b[0m: 'translated_odia'"
          ]
        }
      ]
    },
    {
      "cell_type": "markdown",
      "source": [
        "## SacreBLEU!!"
      ],
      "metadata": {
        "id": "LGPh6i_ZmtwD"
      }
    },
    {
      "cell_type": "code",
      "source": [
        "!pip install evaluate\n",
        "!pip install sacrebleu"
      ],
      "metadata": {
        "id": "p8Thm9jznKLp"
      },
      "execution_count": null,
      "outputs": []
    },
    {
      "cell_type": "code",
      "source": [
        "import  evaluate\n"
      ],
      "metadata": {
        "id": "qFUCzSFmm9eG"
      },
      "execution_count": null,
      "outputs": []
    },
    {
      "cell_type": "code",
      "source": [
        "sacrebleu = evaluate.load(\"sacrebleu\")\n"
      ],
      "metadata": {
        "id": "qMygsR_hmsyY"
      },
      "execution_count": null,
      "outputs": []
    },
    {
      "cell_type": "markdown",
      "source": [
        "### English SacreBLEU Score translated from Odia by IndicTrans2"
      ],
      "metadata": {
        "id": "9aIG0QlWnNkF"
      }
    },
    {
      "cell_type": "code",
      "source": [
        "\n",
        "sacrebleu_results=sacrebleu.compute(predictions=df['translated_eng'], references=df['inputs'])\n",
        "\n",
        "print(\"Average SacreBLEU score for English translated from Odia by IndicTrans2:\", sacrebleu_results[\"score\"])"
      ],
      "metadata": {
        "id": "RzszjF_6nR1O"
      },
      "execution_count": null,
      "outputs": []
    },
    {
      "cell_type": "markdown",
      "source": [
        "### Odia SacreBLEU Score translated from English by IndicTrans2"
      ],
      "metadata": {
        "id": "6vnk2fMxnJbj"
      }
    },
    {
      "cell_type": "code",
      "source": [
        "\n",
        "sacrebleu_results=sacrebleu.compute(predictions=df['translated_odia'], references=df['targets'])\n",
        "\n",
        "print(\"Translated Odia SacreBleu score::\", sacrebleu_results[\"score\"])"
      ],
      "metadata": {
        "id": "eJYf4N80pZUS"
      },
      "execution_count": null,
      "outputs": []
    },
    {
      "cell_type": "code",
      "execution_count": null,
      "metadata": {
        "id": "uyxXpt--Ma6n"
      },
      "outputs": [],
      "source": [
        "below is checked. need not run now"
      ]
    },
    {
      "cell_type": "markdown",
      "metadata": {
        "id": "erNCuZTEMt49"
      },
      "source": [
        "### English to Indic Example\n"
      ]
    },
    {
      "cell_type": "code",
      "source": [
        "# @title\n",
        "pip install accelerate"
      ],
      "metadata": {
        "id": "v4cUY69mP7up"
      },
      "execution_count": null,
      "outputs": []
    },
    {
      "cell_type": "code",
      "execution_count": null,
      "metadata": {
        "id": "IhAkszqBtZpC"
      },
      "outputs": [],
      "source": [
        "# @title\n",
        "en_indic_ckpt_dir = \"ai4bharat/indictrans2-en-indic-1B\"  # ai4bharat/indictrans2-en-indic-dist-200M\n",
        "en_indic_tokenizer, en_indic_model = initialize_model_and_tokenizer(en_indic_ckpt_dir, \"en-indic\", quantization)\n",
        "\n",
        "ip = IndicProcessor(inference=True)"
      ]
    },
    {
      "cell_type": "code",
      "execution_count": null,
      "metadata": {
        "id": "6OG3Bw-sHnf3"
      },
      "outputs": [],
      "source": [
        "# @title\n",
        "en_sents = df['inputs']\n",
        "\n",
        "src_lang, tgt_lang = \"eng_Latn\", \"ory_Orya\"\n",
        "od_translations = batch_translate(en_sents, src_lang, tgt_lang, en_indic_model, en_indic_tokenizer, ip)\n",
        "\n",
        "\n",
        "# print(f\"\\n{src_lang} - {tgt_lang}\")\n",
        "# for input_sentence, translation in zip(en_sents, od_translations):\n",
        "#     print(f\"{src_lang}: {input_sentence}\")\n",
        "#     print(f\"{tgt_lang}: {translation}\")\n",
        "\n",
        "\n"
      ]
    },
    {
      "cell_type": "code",
      "source": [
        "# @title\n",
        "df['translated_odia'] = od_translations\n",
        "df.head()"
      ],
      "metadata": {
        "id": "o7f6w2PlGiKg"
      },
      "execution_count": null,
      "outputs": []
    },
    {
      "cell_type": "code",
      "source": [
        "# @title\n",
        "# import pandas as pd\n",
        "# df = pd.DataFrame(list(zip(en_sents, hi_translations)), columns=['English', 'Hindi'])\n",
        "\n",
        "# # Define filename\n",
        "# filename = \"/content/sample_data/eng_hin_rel.xlsx\"\n",
        "# df.to_excel(filename, index=False)\n",
        "\n",
        "# # Open file in write mode and write DataFrame to CSV\n",
        "# # with open(filename, 'w', encoding='utf-8') as csv_file:\n",
        "# #   csv_file.write(df.to_csv( index=False))\n"
      ],
      "metadata": {
        "id": "t98oKdzTH8hN"
      },
      "execution_count": null,
      "outputs": []
    },
    {
      "cell_type": "code",
      "source": [
        "# @title\n",
        "# for text in hi_translations:\n",
        "#   print(text, \"::\")\n",
        "#   numbers = re.findall(r'[\\d,]+', text)\n",
        "#   # translated_numbers=[]\n",
        "#   for num in numbers:\n",
        "#     # print(\"num::\", num)\n",
        "#     if any(char.isdigit() for char in num):\n",
        "\n",
        "#           # translated_numbers.append(num_to_word(num, lang='hi')) #this hindi needs to be changed TODO\n",
        "#           # print(translated_numbers)\n",
        "#   # for i, number in enumerate(translated_numbers):\n",
        "#   #   text = text.replace(number, translated_numbers[i])\n",
        "#   # print(text, \"\\n\\n\")\n",
        "\n",
        "#       text = text.replace(num, num_to_word(num, lang='hi'))\n",
        "#   print(text, \"\\n\\n\")\n"
      ],
      "metadata": {
        "id": "bSQhnHrTBPgW"
      },
      "execution_count": null,
      "outputs": []
    },
    {
      "cell_type": "code",
      "execution_count": null,
      "metadata": {
        "id": "WHTW2Zd2_7nl"
      },
      "outputs": [],
      "source": [
        "# @title\n",
        "# for  translation in   hi_translations:\n",
        "#     # print(f\"{src_lang}: {input_sentence}\")\n",
        "#     print(f\"'{translation}',\")"
      ]
    },
    {
      "cell_type": "code",
      "execution_count": null,
      "metadata": {
        "id": "8MxYD5kdtcXE"
      },
      "outputs": [],
      "source": [
        "# @title\n",
        "\n",
        "# flush the models to free the GPU memory\n",
        "del en_indic_tokenizer, en_indic_model"
      ]
    }
  ],
  "metadata": {
    "colab": {
      "provenance": [],
      "gpuType": "T4",
      "toc_visible": true
    },
    "kernelspec": {
      "display_name": "Python 3",
      "name": "python3"
    },
    "language_info": {
      "name": "python"
    },
    "widgets": {
      "application/vnd.jupyter.widget-state+json": {
        "812a10277f514318be30782d72c413ac": {
          "model_module": "@jupyter-widgets/controls",
          "model_name": "HBoxModel",
          "model_module_version": "1.5.0",
          "state": {
            "_dom_classes": [],
            "_model_module": "@jupyter-widgets/controls",
            "_model_module_version": "1.5.0",
            "_model_name": "HBoxModel",
            "_view_count": null,
            "_view_module": "@jupyter-widgets/controls",
            "_view_module_version": "1.5.0",
            "_view_name": "HBoxView",
            "box_style": "",
            "children": [
              "IPY_MODEL_c1becd87e6984996b6013cd0a4453721",
              "IPY_MODEL_584fa0ed17fd406caa86bb97aa542b7a",
              "IPY_MODEL_7720b9030e5040b6b68d2b560db35ade"
            ],
            "layout": "IPY_MODEL_376793a02ae34c6988c4187bd9d16ba9"
          }
        },
        "c1becd87e6984996b6013cd0a4453721": {
          "model_module": "@jupyter-widgets/controls",
          "model_name": "HTMLModel",
          "model_module_version": "1.5.0",
          "state": {
            "_dom_classes": [],
            "_model_module": "@jupyter-widgets/controls",
            "_model_module_version": "1.5.0",
            "_model_name": "HTMLModel",
            "_view_count": null,
            "_view_module": "@jupyter-widgets/controls",
            "_view_module_version": "1.5.0",
            "_view_name": "HTMLView",
            "description": "",
            "description_tooltip": null,
            "layout": "IPY_MODEL_60f4b3604006411682c24e707d3382ff",
            "placeholder": "​",
            "style": "IPY_MODEL_2f26e2da77a6482a8db415a18a884743",
            "value": "config.json: 100%"
          }
        },
        "584fa0ed17fd406caa86bb97aa542b7a": {
          "model_module": "@jupyter-widgets/controls",
          "model_name": "FloatProgressModel",
          "model_module_version": "1.5.0",
          "state": {
            "_dom_classes": [],
            "_model_module": "@jupyter-widgets/controls",
            "_model_module_version": "1.5.0",
            "_model_name": "FloatProgressModel",
            "_view_count": null,
            "_view_module": "@jupyter-widgets/controls",
            "_view_module_version": "1.5.0",
            "_view_name": "ProgressView",
            "bar_style": "success",
            "description": "",
            "description_tooltip": null,
            "layout": "IPY_MODEL_5b0ded301ccf49a68923a71d95cd11db",
            "max": 1312,
            "min": 0,
            "orientation": "horizontal",
            "style": "IPY_MODEL_f3cec51593954465b4eefbe5d50a522b",
            "value": 1312
          }
        },
        "7720b9030e5040b6b68d2b560db35ade": {
          "model_module": "@jupyter-widgets/controls",
          "model_name": "HTMLModel",
          "model_module_version": "1.5.0",
          "state": {
            "_dom_classes": [],
            "_model_module": "@jupyter-widgets/controls",
            "_model_module_version": "1.5.0",
            "_model_name": "HTMLModel",
            "_view_count": null,
            "_view_module": "@jupyter-widgets/controls",
            "_view_module_version": "1.5.0",
            "_view_name": "HTMLView",
            "description": "",
            "description_tooltip": null,
            "layout": "IPY_MODEL_ec3dc72468ba42abad73051fe08ac11e",
            "placeholder": "​",
            "style": "IPY_MODEL_52fa314a20444a108df4fb915cc47ec7",
            "value": " 1.31k/1.31k [00:00&lt;00:00, 18.7kB/s]"
          }
        },
        "376793a02ae34c6988c4187bd9d16ba9": {
          "model_module": "@jupyter-widgets/base",
          "model_name": "LayoutModel",
          "model_module_version": "1.2.0",
          "state": {
            "_model_module": "@jupyter-widgets/base",
            "_model_module_version": "1.2.0",
            "_model_name": "LayoutModel",
            "_view_count": null,
            "_view_module": "@jupyter-widgets/base",
            "_view_module_version": "1.2.0",
            "_view_name": "LayoutView",
            "align_content": null,
            "align_items": null,
            "align_self": null,
            "border": null,
            "bottom": null,
            "display": null,
            "flex": null,
            "flex_flow": null,
            "grid_area": null,
            "grid_auto_columns": null,
            "grid_auto_flow": null,
            "grid_auto_rows": null,
            "grid_column": null,
            "grid_gap": null,
            "grid_row": null,
            "grid_template_areas": null,
            "grid_template_columns": null,
            "grid_template_rows": null,
            "height": null,
            "justify_content": null,
            "justify_items": null,
            "left": null,
            "margin": null,
            "max_height": null,
            "max_width": null,
            "min_height": null,
            "min_width": null,
            "object_fit": null,
            "object_position": null,
            "order": null,
            "overflow": null,
            "overflow_x": null,
            "overflow_y": null,
            "padding": null,
            "right": null,
            "top": null,
            "visibility": null,
            "width": null
          }
        },
        "60f4b3604006411682c24e707d3382ff": {
          "model_module": "@jupyter-widgets/base",
          "model_name": "LayoutModel",
          "model_module_version": "1.2.0",
          "state": {
            "_model_module": "@jupyter-widgets/base",
            "_model_module_version": "1.2.0",
            "_model_name": "LayoutModel",
            "_view_count": null,
            "_view_module": "@jupyter-widgets/base",
            "_view_module_version": "1.2.0",
            "_view_name": "LayoutView",
            "align_content": null,
            "align_items": null,
            "align_self": null,
            "border": null,
            "bottom": null,
            "display": null,
            "flex": null,
            "flex_flow": null,
            "grid_area": null,
            "grid_auto_columns": null,
            "grid_auto_flow": null,
            "grid_auto_rows": null,
            "grid_column": null,
            "grid_gap": null,
            "grid_row": null,
            "grid_template_areas": null,
            "grid_template_columns": null,
            "grid_template_rows": null,
            "height": null,
            "justify_content": null,
            "justify_items": null,
            "left": null,
            "margin": null,
            "max_height": null,
            "max_width": null,
            "min_height": null,
            "min_width": null,
            "object_fit": null,
            "object_position": null,
            "order": null,
            "overflow": null,
            "overflow_x": null,
            "overflow_y": null,
            "padding": null,
            "right": null,
            "top": null,
            "visibility": null,
            "width": null
          }
        },
        "2f26e2da77a6482a8db415a18a884743": {
          "model_module": "@jupyter-widgets/controls",
          "model_name": "DescriptionStyleModel",
          "model_module_version": "1.5.0",
          "state": {
            "_model_module": "@jupyter-widgets/controls",
            "_model_module_version": "1.5.0",
            "_model_name": "DescriptionStyleModel",
            "_view_count": null,
            "_view_module": "@jupyter-widgets/base",
            "_view_module_version": "1.2.0",
            "_view_name": "StyleView",
            "description_width": ""
          }
        },
        "5b0ded301ccf49a68923a71d95cd11db": {
          "model_module": "@jupyter-widgets/base",
          "model_name": "LayoutModel",
          "model_module_version": "1.2.0",
          "state": {
            "_model_module": "@jupyter-widgets/base",
            "_model_module_version": "1.2.0",
            "_model_name": "LayoutModel",
            "_view_count": null,
            "_view_module": "@jupyter-widgets/base",
            "_view_module_version": "1.2.0",
            "_view_name": "LayoutView",
            "align_content": null,
            "align_items": null,
            "align_self": null,
            "border": null,
            "bottom": null,
            "display": null,
            "flex": null,
            "flex_flow": null,
            "grid_area": null,
            "grid_auto_columns": null,
            "grid_auto_flow": null,
            "grid_auto_rows": null,
            "grid_column": null,
            "grid_gap": null,
            "grid_row": null,
            "grid_template_areas": null,
            "grid_template_columns": null,
            "grid_template_rows": null,
            "height": null,
            "justify_content": null,
            "justify_items": null,
            "left": null,
            "margin": null,
            "max_height": null,
            "max_width": null,
            "min_height": null,
            "min_width": null,
            "object_fit": null,
            "object_position": null,
            "order": null,
            "overflow": null,
            "overflow_x": null,
            "overflow_y": null,
            "padding": null,
            "right": null,
            "top": null,
            "visibility": null,
            "width": null
          }
        },
        "f3cec51593954465b4eefbe5d50a522b": {
          "model_module": "@jupyter-widgets/controls",
          "model_name": "ProgressStyleModel",
          "model_module_version": "1.5.0",
          "state": {
            "_model_module": "@jupyter-widgets/controls",
            "_model_module_version": "1.5.0",
            "_model_name": "ProgressStyleModel",
            "_view_count": null,
            "_view_module": "@jupyter-widgets/base",
            "_view_module_version": "1.2.0",
            "_view_name": "StyleView",
            "bar_color": null,
            "description_width": ""
          }
        },
        "ec3dc72468ba42abad73051fe08ac11e": {
          "model_module": "@jupyter-widgets/base",
          "model_name": "LayoutModel",
          "model_module_version": "1.2.0",
          "state": {
            "_model_module": "@jupyter-widgets/base",
            "_model_module_version": "1.2.0",
            "_model_name": "LayoutModel",
            "_view_count": null,
            "_view_module": "@jupyter-widgets/base",
            "_view_module_version": "1.2.0",
            "_view_name": "LayoutView",
            "align_content": null,
            "align_items": null,
            "align_self": null,
            "border": null,
            "bottom": null,
            "display": null,
            "flex": null,
            "flex_flow": null,
            "grid_area": null,
            "grid_auto_columns": null,
            "grid_auto_flow": null,
            "grid_auto_rows": null,
            "grid_column": null,
            "grid_gap": null,
            "grid_row": null,
            "grid_template_areas": null,
            "grid_template_columns": null,
            "grid_template_rows": null,
            "height": null,
            "justify_content": null,
            "justify_items": null,
            "left": null,
            "margin": null,
            "max_height": null,
            "max_width": null,
            "min_height": null,
            "min_width": null,
            "object_fit": null,
            "object_position": null,
            "order": null,
            "overflow": null,
            "overflow_x": null,
            "overflow_y": null,
            "padding": null,
            "right": null,
            "top": null,
            "visibility": null,
            "width": null
          }
        },
        "52fa314a20444a108df4fb915cc47ec7": {
          "model_module": "@jupyter-widgets/controls",
          "model_name": "DescriptionStyleModel",
          "model_module_version": "1.5.0",
          "state": {
            "_model_module": "@jupyter-widgets/controls",
            "_model_module_version": "1.5.0",
            "_model_name": "DescriptionStyleModel",
            "_view_count": null,
            "_view_module": "@jupyter-widgets/base",
            "_view_module_version": "1.2.0",
            "_view_name": "StyleView",
            "description_width": ""
          }
        },
        "609fb5e186d74fd7a82f01179ac2bb4a": {
          "model_module": "@jupyter-widgets/controls",
          "model_name": "HBoxModel",
          "model_module_version": "1.5.0",
          "state": {
            "_dom_classes": [],
            "_model_module": "@jupyter-widgets/controls",
            "_model_module_version": "1.5.0",
            "_model_name": "HBoxModel",
            "_view_count": null,
            "_view_module": "@jupyter-widgets/controls",
            "_view_module_version": "1.5.0",
            "_view_name": "HBoxView",
            "box_style": "",
            "children": [
              "IPY_MODEL_e9830bfa7d9a40aa99dbd689960af510",
              "IPY_MODEL_71611defd02943bbaa309422427ee3e7",
              "IPY_MODEL_69515328475a4bbebdccaaed9725b327"
            ],
            "layout": "IPY_MODEL_822465a8b0304f36b4dddfb4555bbba5"
          }
        },
        "e9830bfa7d9a40aa99dbd689960af510": {
          "model_module": "@jupyter-widgets/controls",
          "model_name": "HTMLModel",
          "model_module_version": "1.5.0",
          "state": {
            "_dom_classes": [],
            "_model_module": "@jupyter-widgets/controls",
            "_model_module_version": "1.5.0",
            "_model_name": "HTMLModel",
            "_view_count": null,
            "_view_module": "@jupyter-widgets/controls",
            "_view_module_version": "1.5.0",
            "_view_name": "HTMLView",
            "description": "",
            "description_tooltip": null,
            "layout": "IPY_MODEL_0ab4577d352940839e3bc0b998136348",
            "placeholder": "​",
            "style": "IPY_MODEL_8186d9ccb5aa47188e7b10ed10526a5e",
            "value": "configuration_indictrans.py: 100%"
          }
        },
        "71611defd02943bbaa309422427ee3e7": {
          "model_module": "@jupyter-widgets/controls",
          "model_name": "FloatProgressModel",
          "model_module_version": "1.5.0",
          "state": {
            "_dom_classes": [],
            "_model_module": "@jupyter-widgets/controls",
            "_model_module_version": "1.5.0",
            "_model_name": "FloatProgressModel",
            "_view_count": null,
            "_view_module": "@jupyter-widgets/controls",
            "_view_module_version": "1.5.0",
            "_view_name": "ProgressView",
            "bar_style": "success",
            "description": "",
            "description_tooltip": null,
            "layout": "IPY_MODEL_c5162bd3904441818ae495c744bdf71f",
            "max": 14055,
            "min": 0,
            "orientation": "horizontal",
            "style": "IPY_MODEL_7ef01d0a40314203886bf2032c6f6383",
            "value": 14055
          }
        },
        "69515328475a4bbebdccaaed9725b327": {
          "model_module": "@jupyter-widgets/controls",
          "model_name": "HTMLModel",
          "model_module_version": "1.5.0",
          "state": {
            "_dom_classes": [],
            "_model_module": "@jupyter-widgets/controls",
            "_model_module_version": "1.5.0",
            "_model_name": "HTMLModel",
            "_view_count": null,
            "_view_module": "@jupyter-widgets/controls",
            "_view_module_version": "1.5.0",
            "_view_name": "HTMLView",
            "description": "",
            "description_tooltip": null,
            "layout": "IPY_MODEL_1585ed973bbf48fc8d4ef6601967a427",
            "placeholder": "​",
            "style": "IPY_MODEL_5be5aa8c2a384c8e8cee065344e5bb9f",
            "value": " 14.1k/14.1k [00:00&lt;00:00, 345kB/s]"
          }
        },
        "822465a8b0304f36b4dddfb4555bbba5": {
          "model_module": "@jupyter-widgets/base",
          "model_name": "LayoutModel",
          "model_module_version": "1.2.0",
          "state": {
            "_model_module": "@jupyter-widgets/base",
            "_model_module_version": "1.2.0",
            "_model_name": "LayoutModel",
            "_view_count": null,
            "_view_module": "@jupyter-widgets/base",
            "_view_module_version": "1.2.0",
            "_view_name": "LayoutView",
            "align_content": null,
            "align_items": null,
            "align_self": null,
            "border": null,
            "bottom": null,
            "display": null,
            "flex": null,
            "flex_flow": null,
            "grid_area": null,
            "grid_auto_columns": null,
            "grid_auto_flow": null,
            "grid_auto_rows": null,
            "grid_column": null,
            "grid_gap": null,
            "grid_row": null,
            "grid_template_areas": null,
            "grid_template_columns": null,
            "grid_template_rows": null,
            "height": null,
            "justify_content": null,
            "justify_items": null,
            "left": null,
            "margin": null,
            "max_height": null,
            "max_width": null,
            "min_height": null,
            "min_width": null,
            "object_fit": null,
            "object_position": null,
            "order": null,
            "overflow": null,
            "overflow_x": null,
            "overflow_y": null,
            "padding": null,
            "right": null,
            "top": null,
            "visibility": null,
            "width": null
          }
        },
        "0ab4577d352940839e3bc0b998136348": {
          "model_module": "@jupyter-widgets/base",
          "model_name": "LayoutModel",
          "model_module_version": "1.2.0",
          "state": {
            "_model_module": "@jupyter-widgets/base",
            "_model_module_version": "1.2.0",
            "_model_name": "LayoutModel",
            "_view_count": null,
            "_view_module": "@jupyter-widgets/base",
            "_view_module_version": "1.2.0",
            "_view_name": "LayoutView",
            "align_content": null,
            "align_items": null,
            "align_self": null,
            "border": null,
            "bottom": null,
            "display": null,
            "flex": null,
            "flex_flow": null,
            "grid_area": null,
            "grid_auto_columns": null,
            "grid_auto_flow": null,
            "grid_auto_rows": null,
            "grid_column": null,
            "grid_gap": null,
            "grid_row": null,
            "grid_template_areas": null,
            "grid_template_columns": null,
            "grid_template_rows": null,
            "height": null,
            "justify_content": null,
            "justify_items": null,
            "left": null,
            "margin": null,
            "max_height": null,
            "max_width": null,
            "min_height": null,
            "min_width": null,
            "object_fit": null,
            "object_position": null,
            "order": null,
            "overflow": null,
            "overflow_x": null,
            "overflow_y": null,
            "padding": null,
            "right": null,
            "top": null,
            "visibility": null,
            "width": null
          }
        },
        "8186d9ccb5aa47188e7b10ed10526a5e": {
          "model_module": "@jupyter-widgets/controls",
          "model_name": "DescriptionStyleModel",
          "model_module_version": "1.5.0",
          "state": {
            "_model_module": "@jupyter-widgets/controls",
            "_model_module_version": "1.5.0",
            "_model_name": "DescriptionStyleModel",
            "_view_count": null,
            "_view_module": "@jupyter-widgets/base",
            "_view_module_version": "1.2.0",
            "_view_name": "StyleView",
            "description_width": ""
          }
        },
        "c5162bd3904441818ae495c744bdf71f": {
          "model_module": "@jupyter-widgets/base",
          "model_name": "LayoutModel",
          "model_module_version": "1.2.0",
          "state": {
            "_model_module": "@jupyter-widgets/base",
            "_model_module_version": "1.2.0",
            "_model_name": "LayoutModel",
            "_view_count": null,
            "_view_module": "@jupyter-widgets/base",
            "_view_module_version": "1.2.0",
            "_view_name": "LayoutView",
            "align_content": null,
            "align_items": null,
            "align_self": null,
            "border": null,
            "bottom": null,
            "display": null,
            "flex": null,
            "flex_flow": null,
            "grid_area": null,
            "grid_auto_columns": null,
            "grid_auto_flow": null,
            "grid_auto_rows": null,
            "grid_column": null,
            "grid_gap": null,
            "grid_row": null,
            "grid_template_areas": null,
            "grid_template_columns": null,
            "grid_template_rows": null,
            "height": null,
            "justify_content": null,
            "justify_items": null,
            "left": null,
            "margin": null,
            "max_height": null,
            "max_width": null,
            "min_height": null,
            "min_width": null,
            "object_fit": null,
            "object_position": null,
            "order": null,
            "overflow": null,
            "overflow_x": null,
            "overflow_y": null,
            "padding": null,
            "right": null,
            "top": null,
            "visibility": null,
            "width": null
          }
        },
        "7ef01d0a40314203886bf2032c6f6383": {
          "model_module": "@jupyter-widgets/controls",
          "model_name": "ProgressStyleModel",
          "model_module_version": "1.5.0",
          "state": {
            "_model_module": "@jupyter-widgets/controls",
            "_model_module_version": "1.5.0",
            "_model_name": "ProgressStyleModel",
            "_view_count": null,
            "_view_module": "@jupyter-widgets/base",
            "_view_module_version": "1.2.0",
            "_view_name": "StyleView",
            "bar_color": null,
            "description_width": ""
          }
        },
        "1585ed973bbf48fc8d4ef6601967a427": {
          "model_module": "@jupyter-widgets/base",
          "model_name": "LayoutModel",
          "model_module_version": "1.2.0",
          "state": {
            "_model_module": "@jupyter-widgets/base",
            "_model_module_version": "1.2.0",
            "_model_name": "LayoutModel",
            "_view_count": null,
            "_view_module": "@jupyter-widgets/base",
            "_view_module_version": "1.2.0",
            "_view_name": "LayoutView",
            "align_content": null,
            "align_items": null,
            "align_self": null,
            "border": null,
            "bottom": null,
            "display": null,
            "flex": null,
            "flex_flow": null,
            "grid_area": null,
            "grid_auto_columns": null,
            "grid_auto_flow": null,
            "grid_auto_rows": null,
            "grid_column": null,
            "grid_gap": null,
            "grid_row": null,
            "grid_template_areas": null,
            "grid_template_columns": null,
            "grid_template_rows": null,
            "height": null,
            "justify_content": null,
            "justify_items": null,
            "left": null,
            "margin": null,
            "max_height": null,
            "max_width": null,
            "min_height": null,
            "min_width": null,
            "object_fit": null,
            "object_position": null,
            "order": null,
            "overflow": null,
            "overflow_x": null,
            "overflow_y": null,
            "padding": null,
            "right": null,
            "top": null,
            "visibility": null,
            "width": null
          }
        },
        "5be5aa8c2a384c8e8cee065344e5bb9f": {
          "model_module": "@jupyter-widgets/controls",
          "model_name": "DescriptionStyleModel",
          "model_module_version": "1.5.0",
          "state": {
            "_model_module": "@jupyter-widgets/controls",
            "_model_module_version": "1.5.0",
            "_model_name": "DescriptionStyleModel",
            "_view_count": null,
            "_view_module": "@jupyter-widgets/base",
            "_view_module_version": "1.2.0",
            "_view_name": "StyleView",
            "description_width": ""
          }
        },
        "88ca22f32f924876a4e689bdd5ae43a8": {
          "model_module": "@jupyter-widgets/controls",
          "model_name": "HBoxModel",
          "model_module_version": "1.5.0",
          "state": {
            "_dom_classes": [],
            "_model_module": "@jupyter-widgets/controls",
            "_model_module_version": "1.5.0",
            "_model_name": "HBoxModel",
            "_view_count": null,
            "_view_module": "@jupyter-widgets/controls",
            "_view_module_version": "1.5.0",
            "_view_name": "HBoxView",
            "box_style": "",
            "children": [
              "IPY_MODEL_c2939f0ce91249a192f0ca605ec038b0",
              "IPY_MODEL_f4ce982eee61431a898b7bf0d21ec816",
              "IPY_MODEL_4e7c0a27085546868211fec47c06b74e"
            ],
            "layout": "IPY_MODEL_52fa849a03f44b10a1198935eb73f1ba"
          }
        },
        "c2939f0ce91249a192f0ca605ec038b0": {
          "model_module": "@jupyter-widgets/controls",
          "model_name": "HTMLModel",
          "model_module_version": "1.5.0",
          "state": {
            "_dom_classes": [],
            "_model_module": "@jupyter-widgets/controls",
            "_model_module_version": "1.5.0",
            "_model_name": "HTMLModel",
            "_view_count": null,
            "_view_module": "@jupyter-widgets/controls",
            "_view_module_version": "1.5.0",
            "_view_name": "HTMLView",
            "description": "",
            "description_tooltip": null,
            "layout": "IPY_MODEL_1739375c522f4111b0ab140caebedbd2",
            "placeholder": "​",
            "style": "IPY_MODEL_c92fbeb100984273b5248cc43d097299",
            "value": "modeling_indictrans.py: 100%"
          }
        },
        "f4ce982eee61431a898b7bf0d21ec816": {
          "model_module": "@jupyter-widgets/controls",
          "model_name": "FloatProgressModel",
          "model_module_version": "1.5.0",
          "state": {
            "_dom_classes": [],
            "_model_module": "@jupyter-widgets/controls",
            "_model_module_version": "1.5.0",
            "_model_name": "FloatProgressModel",
            "_view_count": null,
            "_view_module": "@jupyter-widgets/controls",
            "_view_module_version": "1.5.0",
            "_view_name": "ProgressView",
            "bar_style": "success",
            "description": "",
            "description_tooltip": null,
            "layout": "IPY_MODEL_8c2c2dd73edd4955a738f1c5aeede17d",
            "max": 61233,
            "min": 0,
            "orientation": "horizontal",
            "style": "IPY_MODEL_35a17f2b971f4dedb72492ccc40fef54",
            "value": 61233
          }
        },
        "4e7c0a27085546868211fec47c06b74e": {
          "model_module": "@jupyter-widgets/controls",
          "model_name": "HTMLModel",
          "model_module_version": "1.5.0",
          "state": {
            "_dom_classes": [],
            "_model_module": "@jupyter-widgets/controls",
            "_model_module_version": "1.5.0",
            "_model_name": "HTMLModel",
            "_view_count": null,
            "_view_module": "@jupyter-widgets/controls",
            "_view_module_version": "1.5.0",
            "_view_name": "HTMLView",
            "description": "",
            "description_tooltip": null,
            "layout": "IPY_MODEL_a7518dea6a89483d9f1df9b0be7c221d",
            "placeholder": "​",
            "style": "IPY_MODEL_0e5be7f95d134b2780d766e340f72f24",
            "value": " 61.2k/61.2k [00:00&lt;00:00, 968kB/s]"
          }
        },
        "52fa849a03f44b10a1198935eb73f1ba": {
          "model_module": "@jupyter-widgets/base",
          "model_name": "LayoutModel",
          "model_module_version": "1.2.0",
          "state": {
            "_model_module": "@jupyter-widgets/base",
            "_model_module_version": "1.2.0",
            "_model_name": "LayoutModel",
            "_view_count": null,
            "_view_module": "@jupyter-widgets/base",
            "_view_module_version": "1.2.0",
            "_view_name": "LayoutView",
            "align_content": null,
            "align_items": null,
            "align_self": null,
            "border": null,
            "bottom": null,
            "display": null,
            "flex": null,
            "flex_flow": null,
            "grid_area": null,
            "grid_auto_columns": null,
            "grid_auto_flow": null,
            "grid_auto_rows": null,
            "grid_column": null,
            "grid_gap": null,
            "grid_row": null,
            "grid_template_areas": null,
            "grid_template_columns": null,
            "grid_template_rows": null,
            "height": null,
            "justify_content": null,
            "justify_items": null,
            "left": null,
            "margin": null,
            "max_height": null,
            "max_width": null,
            "min_height": null,
            "min_width": null,
            "object_fit": null,
            "object_position": null,
            "order": null,
            "overflow": null,
            "overflow_x": null,
            "overflow_y": null,
            "padding": null,
            "right": null,
            "top": null,
            "visibility": null,
            "width": null
          }
        },
        "1739375c522f4111b0ab140caebedbd2": {
          "model_module": "@jupyter-widgets/base",
          "model_name": "LayoutModel",
          "model_module_version": "1.2.0",
          "state": {
            "_model_module": "@jupyter-widgets/base",
            "_model_module_version": "1.2.0",
            "_model_name": "LayoutModel",
            "_view_count": null,
            "_view_module": "@jupyter-widgets/base",
            "_view_module_version": "1.2.0",
            "_view_name": "LayoutView",
            "align_content": null,
            "align_items": null,
            "align_self": null,
            "border": null,
            "bottom": null,
            "display": null,
            "flex": null,
            "flex_flow": null,
            "grid_area": null,
            "grid_auto_columns": null,
            "grid_auto_flow": null,
            "grid_auto_rows": null,
            "grid_column": null,
            "grid_gap": null,
            "grid_row": null,
            "grid_template_areas": null,
            "grid_template_columns": null,
            "grid_template_rows": null,
            "height": null,
            "justify_content": null,
            "justify_items": null,
            "left": null,
            "margin": null,
            "max_height": null,
            "max_width": null,
            "min_height": null,
            "min_width": null,
            "object_fit": null,
            "object_position": null,
            "order": null,
            "overflow": null,
            "overflow_x": null,
            "overflow_y": null,
            "padding": null,
            "right": null,
            "top": null,
            "visibility": null,
            "width": null
          }
        },
        "c92fbeb100984273b5248cc43d097299": {
          "model_module": "@jupyter-widgets/controls",
          "model_name": "DescriptionStyleModel",
          "model_module_version": "1.5.0",
          "state": {
            "_model_module": "@jupyter-widgets/controls",
            "_model_module_version": "1.5.0",
            "_model_name": "DescriptionStyleModel",
            "_view_count": null,
            "_view_module": "@jupyter-widgets/base",
            "_view_module_version": "1.2.0",
            "_view_name": "StyleView",
            "description_width": ""
          }
        },
        "8c2c2dd73edd4955a738f1c5aeede17d": {
          "model_module": "@jupyter-widgets/base",
          "model_name": "LayoutModel",
          "model_module_version": "1.2.0",
          "state": {
            "_model_module": "@jupyter-widgets/base",
            "_model_module_version": "1.2.0",
            "_model_name": "LayoutModel",
            "_view_count": null,
            "_view_module": "@jupyter-widgets/base",
            "_view_module_version": "1.2.0",
            "_view_name": "LayoutView",
            "align_content": null,
            "align_items": null,
            "align_self": null,
            "border": null,
            "bottom": null,
            "display": null,
            "flex": null,
            "flex_flow": null,
            "grid_area": null,
            "grid_auto_columns": null,
            "grid_auto_flow": null,
            "grid_auto_rows": null,
            "grid_column": null,
            "grid_gap": null,
            "grid_row": null,
            "grid_template_areas": null,
            "grid_template_columns": null,
            "grid_template_rows": null,
            "height": null,
            "justify_content": null,
            "justify_items": null,
            "left": null,
            "margin": null,
            "max_height": null,
            "max_width": null,
            "min_height": null,
            "min_width": null,
            "object_fit": null,
            "object_position": null,
            "order": null,
            "overflow": null,
            "overflow_x": null,
            "overflow_y": null,
            "padding": null,
            "right": null,
            "top": null,
            "visibility": null,
            "width": null
          }
        },
        "35a17f2b971f4dedb72492ccc40fef54": {
          "model_module": "@jupyter-widgets/controls",
          "model_name": "ProgressStyleModel",
          "model_module_version": "1.5.0",
          "state": {
            "_model_module": "@jupyter-widgets/controls",
            "_model_module_version": "1.5.0",
            "_model_name": "ProgressStyleModel",
            "_view_count": null,
            "_view_module": "@jupyter-widgets/base",
            "_view_module_version": "1.2.0",
            "_view_name": "StyleView",
            "bar_color": null,
            "description_width": ""
          }
        },
        "a7518dea6a89483d9f1df9b0be7c221d": {
          "model_module": "@jupyter-widgets/base",
          "model_name": "LayoutModel",
          "model_module_version": "1.2.0",
          "state": {
            "_model_module": "@jupyter-widgets/base",
            "_model_module_version": "1.2.0",
            "_model_name": "LayoutModel",
            "_view_count": null,
            "_view_module": "@jupyter-widgets/base",
            "_view_module_version": "1.2.0",
            "_view_name": "LayoutView",
            "align_content": null,
            "align_items": null,
            "align_self": null,
            "border": null,
            "bottom": null,
            "display": null,
            "flex": null,
            "flex_flow": null,
            "grid_area": null,
            "grid_auto_columns": null,
            "grid_auto_flow": null,
            "grid_auto_rows": null,
            "grid_column": null,
            "grid_gap": null,
            "grid_row": null,
            "grid_template_areas": null,
            "grid_template_columns": null,
            "grid_template_rows": null,
            "height": null,
            "justify_content": null,
            "justify_items": null,
            "left": null,
            "margin": null,
            "max_height": null,
            "max_width": null,
            "min_height": null,
            "min_width": null,
            "object_fit": null,
            "object_position": null,
            "order": null,
            "overflow": null,
            "overflow_x": null,
            "overflow_y": null,
            "padding": null,
            "right": null,
            "top": null,
            "visibility": null,
            "width": null
          }
        },
        "0e5be7f95d134b2780d766e340f72f24": {
          "model_module": "@jupyter-widgets/controls",
          "model_name": "DescriptionStyleModel",
          "model_module_version": "1.5.0",
          "state": {
            "_model_module": "@jupyter-widgets/controls",
            "_model_module_version": "1.5.0",
            "_model_name": "DescriptionStyleModel",
            "_view_count": null,
            "_view_module": "@jupyter-widgets/base",
            "_view_module_version": "1.2.0",
            "_view_name": "StyleView",
            "description_width": ""
          }
        },
        "6ecc12573c824a7c8c3c7976ae73e4e9": {
          "model_module": "@jupyter-widgets/controls",
          "model_name": "HBoxModel",
          "model_module_version": "1.5.0",
          "state": {
            "_dom_classes": [],
            "_model_module": "@jupyter-widgets/controls",
            "_model_module_version": "1.5.0",
            "_model_name": "HBoxModel",
            "_view_count": null,
            "_view_module": "@jupyter-widgets/controls",
            "_view_module_version": "1.5.0",
            "_view_name": "HBoxView",
            "box_style": "",
            "children": [
              "IPY_MODEL_94604ccc3d9a4b828012617ce4ad603e",
              "IPY_MODEL_ff813e08bf394fedb1ad42b7305945f5",
              "IPY_MODEL_6c30a8dc07af4330809cdf5f0a7e97fe"
            ],
            "layout": "IPY_MODEL_7d8907d58b8645648c53175c662a3bc3"
          }
        },
        "94604ccc3d9a4b828012617ce4ad603e": {
          "model_module": "@jupyter-widgets/controls",
          "model_name": "HTMLModel",
          "model_module_version": "1.5.0",
          "state": {
            "_dom_classes": [],
            "_model_module": "@jupyter-widgets/controls",
            "_model_module_version": "1.5.0",
            "_model_name": "HTMLModel",
            "_view_count": null,
            "_view_module": "@jupyter-widgets/controls",
            "_view_module_version": "1.5.0",
            "_view_name": "HTMLView",
            "description": "",
            "description_tooltip": null,
            "layout": "IPY_MODEL_7d5c7bbbe61f4b0eb222ca90d11226a1",
            "placeholder": "​",
            "style": "IPY_MODEL_7de776e9986d407cb9a6dff49fb4ceb8",
            "value": "pytorch_model.bin: 100%"
          }
        },
        "ff813e08bf394fedb1ad42b7305945f5": {
          "model_module": "@jupyter-widgets/controls",
          "model_name": "FloatProgressModel",
          "model_module_version": "1.5.0",
          "state": {
            "_dom_classes": [],
            "_model_module": "@jupyter-widgets/controls",
            "_model_module_version": "1.5.0",
            "_model_name": "FloatProgressModel",
            "_view_count": null,
            "_view_module": "@jupyter-widgets/controls",
            "_view_module_version": "1.5.0",
            "_view_name": "ProgressView",
            "bar_style": "success",
            "description": "",
            "description_tooltip": null,
            "layout": "IPY_MODEL_9338de23b2014f64868012b71caa289d",
            "max": 4092276281,
            "min": 0,
            "orientation": "horizontal",
            "style": "IPY_MODEL_a9079431e18d4e988ed025bddf77d8b5",
            "value": 4092276281
          }
        },
        "6c30a8dc07af4330809cdf5f0a7e97fe": {
          "model_module": "@jupyter-widgets/controls",
          "model_name": "HTMLModel",
          "model_module_version": "1.5.0",
          "state": {
            "_dom_classes": [],
            "_model_module": "@jupyter-widgets/controls",
            "_model_module_version": "1.5.0",
            "_model_name": "HTMLModel",
            "_view_count": null,
            "_view_module": "@jupyter-widgets/controls",
            "_view_module_version": "1.5.0",
            "_view_name": "HTMLView",
            "description": "",
            "description_tooltip": null,
            "layout": "IPY_MODEL_309bbc2e810c42769a1e6e3255d69a8e",
            "placeholder": "​",
            "style": "IPY_MODEL_fbfee0452e844a8fabb642b6021e4597",
            "value": " 4.09G/4.09G [00:56&lt;00:00, 80.7MB/s]"
          }
        },
        "7d8907d58b8645648c53175c662a3bc3": {
          "model_module": "@jupyter-widgets/base",
          "model_name": "LayoutModel",
          "model_module_version": "1.2.0",
          "state": {
            "_model_module": "@jupyter-widgets/base",
            "_model_module_version": "1.2.0",
            "_model_name": "LayoutModel",
            "_view_count": null,
            "_view_module": "@jupyter-widgets/base",
            "_view_module_version": "1.2.0",
            "_view_name": "LayoutView",
            "align_content": null,
            "align_items": null,
            "align_self": null,
            "border": null,
            "bottom": null,
            "display": null,
            "flex": null,
            "flex_flow": null,
            "grid_area": null,
            "grid_auto_columns": null,
            "grid_auto_flow": null,
            "grid_auto_rows": null,
            "grid_column": null,
            "grid_gap": null,
            "grid_row": null,
            "grid_template_areas": null,
            "grid_template_columns": null,
            "grid_template_rows": null,
            "height": null,
            "justify_content": null,
            "justify_items": null,
            "left": null,
            "margin": null,
            "max_height": null,
            "max_width": null,
            "min_height": null,
            "min_width": null,
            "object_fit": null,
            "object_position": null,
            "order": null,
            "overflow": null,
            "overflow_x": null,
            "overflow_y": null,
            "padding": null,
            "right": null,
            "top": null,
            "visibility": null,
            "width": null
          }
        },
        "7d5c7bbbe61f4b0eb222ca90d11226a1": {
          "model_module": "@jupyter-widgets/base",
          "model_name": "LayoutModel",
          "model_module_version": "1.2.0",
          "state": {
            "_model_module": "@jupyter-widgets/base",
            "_model_module_version": "1.2.0",
            "_model_name": "LayoutModel",
            "_view_count": null,
            "_view_module": "@jupyter-widgets/base",
            "_view_module_version": "1.2.0",
            "_view_name": "LayoutView",
            "align_content": null,
            "align_items": null,
            "align_self": null,
            "border": null,
            "bottom": null,
            "display": null,
            "flex": null,
            "flex_flow": null,
            "grid_area": null,
            "grid_auto_columns": null,
            "grid_auto_flow": null,
            "grid_auto_rows": null,
            "grid_column": null,
            "grid_gap": null,
            "grid_row": null,
            "grid_template_areas": null,
            "grid_template_columns": null,
            "grid_template_rows": null,
            "height": null,
            "justify_content": null,
            "justify_items": null,
            "left": null,
            "margin": null,
            "max_height": null,
            "max_width": null,
            "min_height": null,
            "min_width": null,
            "object_fit": null,
            "object_position": null,
            "order": null,
            "overflow": null,
            "overflow_x": null,
            "overflow_y": null,
            "padding": null,
            "right": null,
            "top": null,
            "visibility": null,
            "width": null
          }
        },
        "7de776e9986d407cb9a6dff49fb4ceb8": {
          "model_module": "@jupyter-widgets/controls",
          "model_name": "DescriptionStyleModel",
          "model_module_version": "1.5.0",
          "state": {
            "_model_module": "@jupyter-widgets/controls",
            "_model_module_version": "1.5.0",
            "_model_name": "DescriptionStyleModel",
            "_view_count": null,
            "_view_module": "@jupyter-widgets/base",
            "_view_module_version": "1.2.0",
            "_view_name": "StyleView",
            "description_width": ""
          }
        },
        "9338de23b2014f64868012b71caa289d": {
          "model_module": "@jupyter-widgets/base",
          "model_name": "LayoutModel",
          "model_module_version": "1.2.0",
          "state": {
            "_model_module": "@jupyter-widgets/base",
            "_model_module_version": "1.2.0",
            "_model_name": "LayoutModel",
            "_view_count": null,
            "_view_module": "@jupyter-widgets/base",
            "_view_module_version": "1.2.0",
            "_view_name": "LayoutView",
            "align_content": null,
            "align_items": null,
            "align_self": null,
            "border": null,
            "bottom": null,
            "display": null,
            "flex": null,
            "flex_flow": null,
            "grid_area": null,
            "grid_auto_columns": null,
            "grid_auto_flow": null,
            "grid_auto_rows": null,
            "grid_column": null,
            "grid_gap": null,
            "grid_row": null,
            "grid_template_areas": null,
            "grid_template_columns": null,
            "grid_template_rows": null,
            "height": null,
            "justify_content": null,
            "justify_items": null,
            "left": null,
            "margin": null,
            "max_height": null,
            "max_width": null,
            "min_height": null,
            "min_width": null,
            "object_fit": null,
            "object_position": null,
            "order": null,
            "overflow": null,
            "overflow_x": null,
            "overflow_y": null,
            "padding": null,
            "right": null,
            "top": null,
            "visibility": null,
            "width": null
          }
        },
        "a9079431e18d4e988ed025bddf77d8b5": {
          "model_module": "@jupyter-widgets/controls",
          "model_name": "ProgressStyleModel",
          "model_module_version": "1.5.0",
          "state": {
            "_model_module": "@jupyter-widgets/controls",
            "_model_module_version": "1.5.0",
            "_model_name": "ProgressStyleModel",
            "_view_count": null,
            "_view_module": "@jupyter-widgets/base",
            "_view_module_version": "1.2.0",
            "_view_name": "StyleView",
            "bar_color": null,
            "description_width": ""
          }
        },
        "309bbc2e810c42769a1e6e3255d69a8e": {
          "model_module": "@jupyter-widgets/base",
          "model_name": "LayoutModel",
          "model_module_version": "1.2.0",
          "state": {
            "_model_module": "@jupyter-widgets/base",
            "_model_module_version": "1.2.0",
            "_model_name": "LayoutModel",
            "_view_count": null,
            "_view_module": "@jupyter-widgets/base",
            "_view_module_version": "1.2.0",
            "_view_name": "LayoutView",
            "align_content": null,
            "align_items": null,
            "align_self": null,
            "border": null,
            "bottom": null,
            "display": null,
            "flex": null,
            "flex_flow": null,
            "grid_area": null,
            "grid_auto_columns": null,
            "grid_auto_flow": null,
            "grid_auto_rows": null,
            "grid_column": null,
            "grid_gap": null,
            "grid_row": null,
            "grid_template_areas": null,
            "grid_template_columns": null,
            "grid_template_rows": null,
            "height": null,
            "justify_content": null,
            "justify_items": null,
            "left": null,
            "margin": null,
            "max_height": null,
            "max_width": null,
            "min_height": null,
            "min_width": null,
            "object_fit": null,
            "object_position": null,
            "order": null,
            "overflow": null,
            "overflow_x": null,
            "overflow_y": null,
            "padding": null,
            "right": null,
            "top": null,
            "visibility": null,
            "width": null
          }
        },
        "fbfee0452e844a8fabb642b6021e4597": {
          "model_module": "@jupyter-widgets/controls",
          "model_name": "DescriptionStyleModel",
          "model_module_version": "1.5.0",
          "state": {
            "_model_module": "@jupyter-widgets/controls",
            "_model_module_version": "1.5.0",
            "_model_name": "DescriptionStyleModel",
            "_view_count": null,
            "_view_module": "@jupyter-widgets/base",
            "_view_module_version": "1.2.0",
            "_view_name": "StyleView",
            "description_width": ""
          }
        },
        "519cd751265f4d9b971ee268024b4d8f": {
          "model_module": "@jupyter-widgets/controls",
          "model_name": "HBoxModel",
          "model_module_version": "1.5.0",
          "state": {
            "_dom_classes": [],
            "_model_module": "@jupyter-widgets/controls",
            "_model_module_version": "1.5.0",
            "_model_name": "HBoxModel",
            "_view_count": null,
            "_view_module": "@jupyter-widgets/controls",
            "_view_module_version": "1.5.0",
            "_view_name": "HBoxView",
            "box_style": "",
            "children": [
              "IPY_MODEL_fc7b03b8c3b241faa2a5d6ac68efde46",
              "IPY_MODEL_de611625aa9c430681405a1823e93528",
              "IPY_MODEL_5dfa606377b740e5ac3c2b13eb5481bf"
            ],
            "layout": "IPY_MODEL_1c39548daff742bca31450b2754ccfd6"
          }
        },
        "fc7b03b8c3b241faa2a5d6ac68efde46": {
          "model_module": "@jupyter-widgets/controls",
          "model_name": "HTMLModel",
          "model_module_version": "1.5.0",
          "state": {
            "_dom_classes": [],
            "_model_module": "@jupyter-widgets/controls",
            "_model_module_version": "1.5.0",
            "_model_name": "HTMLModel",
            "_view_count": null,
            "_view_module": "@jupyter-widgets/controls",
            "_view_module_version": "1.5.0",
            "_view_name": "HTMLView",
            "description": "",
            "description_tooltip": null,
            "layout": "IPY_MODEL_c837900fdfa7439581406a5b502b6a3f",
            "placeholder": "​",
            "style": "IPY_MODEL_bcba882046b8413086d6238c90272f83",
            "value": "generation_config.json: 100%"
          }
        },
        "de611625aa9c430681405a1823e93528": {
          "model_module": "@jupyter-widgets/controls",
          "model_name": "FloatProgressModel",
          "model_module_version": "1.5.0",
          "state": {
            "_dom_classes": [],
            "_model_module": "@jupyter-widgets/controls",
            "_model_module_version": "1.5.0",
            "_model_name": "FloatProgressModel",
            "_view_count": null,
            "_view_module": "@jupyter-widgets/controls",
            "_view_module_version": "1.5.0",
            "_view_name": "ProgressView",
            "bar_style": "success",
            "description": "",
            "description_tooltip": null,
            "layout": "IPY_MODEL_f5e92aff59c24984bbf8e19a301ed7ee",
            "max": 163,
            "min": 0,
            "orientation": "horizontal",
            "style": "IPY_MODEL_9794e9d593e34319a9f26e143eb96dd5",
            "value": 163
          }
        },
        "5dfa606377b740e5ac3c2b13eb5481bf": {
          "model_module": "@jupyter-widgets/controls",
          "model_name": "HTMLModel",
          "model_module_version": "1.5.0",
          "state": {
            "_dom_classes": [],
            "_model_module": "@jupyter-widgets/controls",
            "_model_module_version": "1.5.0",
            "_model_name": "HTMLModel",
            "_view_count": null,
            "_view_module": "@jupyter-widgets/controls",
            "_view_module_version": "1.5.0",
            "_view_name": "HTMLView",
            "description": "",
            "description_tooltip": null,
            "layout": "IPY_MODEL_7774a46fabaf42a0a450c263f292b21e",
            "placeholder": "​",
            "style": "IPY_MODEL_c892008c2a1942198dbc6f4b995b99d8",
            "value": " 163/163 [00:00&lt;00:00, 6.52kB/s]"
          }
        },
        "1c39548daff742bca31450b2754ccfd6": {
          "model_module": "@jupyter-widgets/base",
          "model_name": "LayoutModel",
          "model_module_version": "1.2.0",
          "state": {
            "_model_module": "@jupyter-widgets/base",
            "_model_module_version": "1.2.0",
            "_model_name": "LayoutModel",
            "_view_count": null,
            "_view_module": "@jupyter-widgets/base",
            "_view_module_version": "1.2.0",
            "_view_name": "LayoutView",
            "align_content": null,
            "align_items": null,
            "align_self": null,
            "border": null,
            "bottom": null,
            "display": null,
            "flex": null,
            "flex_flow": null,
            "grid_area": null,
            "grid_auto_columns": null,
            "grid_auto_flow": null,
            "grid_auto_rows": null,
            "grid_column": null,
            "grid_gap": null,
            "grid_row": null,
            "grid_template_areas": null,
            "grid_template_columns": null,
            "grid_template_rows": null,
            "height": null,
            "justify_content": null,
            "justify_items": null,
            "left": null,
            "margin": null,
            "max_height": null,
            "max_width": null,
            "min_height": null,
            "min_width": null,
            "object_fit": null,
            "object_position": null,
            "order": null,
            "overflow": null,
            "overflow_x": null,
            "overflow_y": null,
            "padding": null,
            "right": null,
            "top": null,
            "visibility": null,
            "width": null
          }
        },
        "c837900fdfa7439581406a5b502b6a3f": {
          "model_module": "@jupyter-widgets/base",
          "model_name": "LayoutModel",
          "model_module_version": "1.2.0",
          "state": {
            "_model_module": "@jupyter-widgets/base",
            "_model_module_version": "1.2.0",
            "_model_name": "LayoutModel",
            "_view_count": null,
            "_view_module": "@jupyter-widgets/base",
            "_view_module_version": "1.2.0",
            "_view_name": "LayoutView",
            "align_content": null,
            "align_items": null,
            "align_self": null,
            "border": null,
            "bottom": null,
            "display": null,
            "flex": null,
            "flex_flow": null,
            "grid_area": null,
            "grid_auto_columns": null,
            "grid_auto_flow": null,
            "grid_auto_rows": null,
            "grid_column": null,
            "grid_gap": null,
            "grid_row": null,
            "grid_template_areas": null,
            "grid_template_columns": null,
            "grid_template_rows": null,
            "height": null,
            "justify_content": null,
            "justify_items": null,
            "left": null,
            "margin": null,
            "max_height": null,
            "max_width": null,
            "min_height": null,
            "min_width": null,
            "object_fit": null,
            "object_position": null,
            "order": null,
            "overflow": null,
            "overflow_x": null,
            "overflow_y": null,
            "padding": null,
            "right": null,
            "top": null,
            "visibility": null,
            "width": null
          }
        },
        "bcba882046b8413086d6238c90272f83": {
          "model_module": "@jupyter-widgets/controls",
          "model_name": "DescriptionStyleModel",
          "model_module_version": "1.5.0",
          "state": {
            "_model_module": "@jupyter-widgets/controls",
            "_model_module_version": "1.5.0",
            "_model_name": "DescriptionStyleModel",
            "_view_count": null,
            "_view_module": "@jupyter-widgets/base",
            "_view_module_version": "1.2.0",
            "_view_name": "StyleView",
            "description_width": ""
          }
        },
        "f5e92aff59c24984bbf8e19a301ed7ee": {
          "model_module": "@jupyter-widgets/base",
          "model_name": "LayoutModel",
          "model_module_version": "1.2.0",
          "state": {
            "_model_module": "@jupyter-widgets/base",
            "_model_module_version": "1.2.0",
            "_model_name": "LayoutModel",
            "_view_count": null,
            "_view_module": "@jupyter-widgets/base",
            "_view_module_version": "1.2.0",
            "_view_name": "LayoutView",
            "align_content": null,
            "align_items": null,
            "align_self": null,
            "border": null,
            "bottom": null,
            "display": null,
            "flex": null,
            "flex_flow": null,
            "grid_area": null,
            "grid_auto_columns": null,
            "grid_auto_flow": null,
            "grid_auto_rows": null,
            "grid_column": null,
            "grid_gap": null,
            "grid_row": null,
            "grid_template_areas": null,
            "grid_template_columns": null,
            "grid_template_rows": null,
            "height": null,
            "justify_content": null,
            "justify_items": null,
            "left": null,
            "margin": null,
            "max_height": null,
            "max_width": null,
            "min_height": null,
            "min_width": null,
            "object_fit": null,
            "object_position": null,
            "order": null,
            "overflow": null,
            "overflow_x": null,
            "overflow_y": null,
            "padding": null,
            "right": null,
            "top": null,
            "visibility": null,
            "width": null
          }
        },
        "9794e9d593e34319a9f26e143eb96dd5": {
          "model_module": "@jupyter-widgets/controls",
          "model_name": "ProgressStyleModel",
          "model_module_version": "1.5.0",
          "state": {
            "_model_module": "@jupyter-widgets/controls",
            "_model_module_version": "1.5.0",
            "_model_name": "ProgressStyleModel",
            "_view_count": null,
            "_view_module": "@jupyter-widgets/base",
            "_view_module_version": "1.2.0",
            "_view_name": "StyleView",
            "bar_color": null,
            "description_width": ""
          }
        },
        "7774a46fabaf42a0a450c263f292b21e": {
          "model_module": "@jupyter-widgets/base",
          "model_name": "LayoutModel",
          "model_module_version": "1.2.0",
          "state": {
            "_model_module": "@jupyter-widgets/base",
            "_model_module_version": "1.2.0",
            "_model_name": "LayoutModel",
            "_view_count": null,
            "_view_module": "@jupyter-widgets/base",
            "_view_module_version": "1.2.0",
            "_view_name": "LayoutView",
            "align_content": null,
            "align_items": null,
            "align_self": null,
            "border": null,
            "bottom": null,
            "display": null,
            "flex": null,
            "flex_flow": null,
            "grid_area": null,
            "grid_auto_columns": null,
            "grid_auto_flow": null,
            "grid_auto_rows": null,
            "grid_column": null,
            "grid_gap": null,
            "grid_row": null,
            "grid_template_areas": null,
            "grid_template_columns": null,
            "grid_template_rows": null,
            "height": null,
            "justify_content": null,
            "justify_items": null,
            "left": null,
            "margin": null,
            "max_height": null,
            "max_width": null,
            "min_height": null,
            "min_width": null,
            "object_fit": null,
            "object_position": null,
            "order": null,
            "overflow": null,
            "overflow_x": null,
            "overflow_y": null,
            "padding": null,
            "right": null,
            "top": null,
            "visibility": null,
            "width": null
          }
        },
        "c892008c2a1942198dbc6f4b995b99d8": {
          "model_module": "@jupyter-widgets/controls",
          "model_name": "DescriptionStyleModel",
          "model_module_version": "1.5.0",
          "state": {
            "_model_module": "@jupyter-widgets/controls",
            "_model_module_version": "1.5.0",
            "_model_name": "DescriptionStyleModel",
            "_view_count": null,
            "_view_module": "@jupyter-widgets/base",
            "_view_module_version": "1.2.0",
            "_view_name": "StyleView",
            "description_width": ""
          }
        }
      }
    },
    "accelerator": "GPU"
  },
  "nbformat": 4,
  "nbformat_minor": 0
}